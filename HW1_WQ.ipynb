{
  "nbformat": 4,
  "nbformat_minor": 0,
  "metadata": {
    "colab": {
      "provenance": [],
      "collapsed_sections": [],
      "authorship_tag": "ABX9TyPBHkUjoknZ988Ew79NWh89",
      "include_colab_link": true
    },
    "kernelspec": {
      "name": "python3",
      "display_name": "Python 3"
    },
    "language_info": {
      "name": "python"
    }
  },
  "cells": [
    {
      "cell_type": "markdown",
      "metadata": {
        "id": "view-in-github",
        "colab_type": "text"
      },
      "source": [
        "<a href=\"https://colab.research.google.com/github/jamesqiu2021/DSCI-401-QW/blob/main/HW1_WQ.ipynb\" target=\"_parent\"><img src=\"https://colab.research.google.com/assets/colab-badge.svg\" alt=\"Open In Colab\"/></a>"
      ]
    },
    {
      "cell_type": "code",
      "execution_count": null,
      "metadata": {
        "id": "CXXUC-SoDe5s",
        "outputId": "e3e553e2-f42b-4dbf-c7db-6c672dc09d57",
        "colab": {
          "base_uri": "https://localhost:8080/"
        }
      },
      "outputs": [
        {
          "output_type": "stream",
          "name": "stdout",
          "text": [
            "     Year                       Tm          Lg    G   W   L  Ties   W-L%  \\\n",
            "0    2022             Chicago Cubs  NL Central  125  54  71     0  0.432   \n",
            "1    2021             Chicago Cubs  NL Central  162  71  91     0  0.438   \n",
            "2    2020             Chicago Cubs  NL Central   60  34  26     0  0.567   \n",
            "3    2019             Chicago Cubs  NL Central  162  84  78     0  0.519   \n",
            "4    2018             Chicago Cubs  NL Central  163  95  68     0  0.583   \n",
            "..    ...                      ...         ...  ...  ..  ..   ...    ...   \n",
            "142  1880  Chicago White Stockings          NL   86  67  17     2  0.798   \n",
            "143  1879  Chicago White Stockings          NL   83  46  33     4  0.582   \n",
            "144  1878  Chicago White Stockings          NL   61  30  30     1  0.500   \n",
            "145  1877  Chicago White Stockings          NL   60  26  33     1  0.441   \n",
            "146  1876  Chicago White Stockings          NL   66  52  14     0  0.788   \n",
            "\n",
            "     pythW-L%    Finish  ...         Playoffs    R   RA  Attendance  BatAge  \\\n",
            "0       0.436  3rd of 5  ...              NaN  518  596   2163550.0    28.1   \n",
            "1       0.421  4th of 5  ...              NaN  705  839   1978934.0    29.1   \n",
            "2       0.545  1st of 5  ...  Lost NLWC (2-0)  265  240         NaN    27.9   \n",
            "3       0.558  3rd of 5  ...              NaN  814  717   3094865.0    27.7   \n",
            "4       0.575  2nd of 5  ...  Lost NLWC (1-0)  761  645   3181089.0    27.2   \n",
            "..        ...       ...  ...              ...  ...  ...         ...     ...   \n",
            "142     0.725  1st of 8  ...              NaN  538  317         NaN    23.9   \n",
            "143     0.528  4th of 8  ...              NaN  437  411         NaN    24.8   \n",
            "144     0.552  4th of 6  ...              NaN  371  331         NaN    26.2   \n",
            "145     0.489  5th of 6  ...              NaN  366  375         NaN    25.5   \n",
            "146     0.835  1st of 8  ...              NaN  624  257         NaN    25.9   \n",
            "\n",
            "     PAge  #Bat  #P         Top Player                            Managers  \n",
            "0    29.8    57  37    N.Hoerner (4.2)                      D.Ross (54-71)  \n",
            "1    29.4    69  40  W.Contreras (4.1)                      D.Ross (71-91)  \n",
            "2    30.3    47  26    Y.Darvish (2.8)                      D.Ross (34-26)  \n",
            "3    31.1    52  33       J.Baez (6.6)                    J.Maddon (84-78)  \n",
            "4    30.2    50  35       J.Baez (6.4)                    J.Maddon (95-68)  \n",
            "..    ...   ...  ..                ...                                 ...  \n",
            "142  21.2    13   6   L.Corcoran (7.0)                     C.Anson (67-17)  \n",
            "143  23.0    16   2     T.Larkin (4.9)  C.Anson (41-21) and S.Flint (5-12)  \n",
            "144  21.8    15   3     T.Larkin (5.6)                  B.Ferguson (30-30)  \n",
            "145  24.2    18   5    G.Bradley (2.8)                  A.Spalding (26-33)  \n",
            "146  25.1    11   5  A.Spalding (10.2)                  A.Spalding (52-14)  \n",
            "\n",
            "[147 rows x 21 columns]\n"
          ]
        }
      ],
      "source": [
        "import numpy as np\n",
        "import pandas as pd\n",
        "from pandas_profiling import ProfileReport\n",
        "cubs = pd.read_csv(\"https://raw.githubusercontent.com/gjm112/DSCI401/main/data/cubs_all_time.csv\")\n",
        "print (cubs)"
      ]
    },
    {
      "cell_type": "markdown",
      "source": [
        "#Question 3a"
      ],
      "metadata": {
        "id": "6WLntHpynRrR"
      }
    },
    {
      "cell_type": "code",
      "source": [
        "sum(cubs.W)"
      ],
      "metadata": {
        "colab": {
          "base_uri": "https://localhost:8080/"
        },
        "id": "UYmEHk83OQhB",
        "outputId": "4853ce32-a548-44ae-a706-2d3280c1cf4d"
      },
      "execution_count": null,
      "outputs": [
        {
          "output_type": "execute_result",
          "data": {
            "text/plain": [
              "11141"
            ]
          },
          "metadata": {},
          "execution_count": 36
        }
      ]
    },
    {
      "cell_type": "code",
      "source": [
        "sum(cubs.L)"
      ],
      "metadata": {
        "colab": {
          "base_uri": "https://localhost:8080/"
        },
        "id": "Q-28NgEpAiNW",
        "outputId": "d447fd34-24b3-47bf-d6b0-6079a3238876"
      },
      "execution_count": null,
      "outputs": [
        {
          "output_type": "execute_result",
          "data": {
            "text/plain": [
              "10592"
            ]
          },
          "metadata": {},
          "execution_count": 25
        }
      ]
    },
    {
      "cell_type": "code",
      "source": [
        "sum (cubs.W+cubs.L)"
      ],
      "metadata": {
        "colab": {
          "base_uri": "https://localhost:8080/"
        },
        "id": "jXn8cRODAmIT",
        "outputId": "a7f8c7b0-e40a-44c8-ba64-9518cee9079e"
      },
      "execution_count": null,
      "outputs": [
        {
          "output_type": "execute_result",
          "data": {
            "text/plain": [
              "21733"
            ]
          },
          "metadata": {},
          "execution_count": 26
        }
      ]
    },
    {
      "cell_type": "markdown",
      "source": [
        "#Question 3b"
      ],
      "metadata": {
        "id": "TLZtiQaAnBT4"
      }
    },
    {
      "cell_type": "code",
      "source": [
        "Run=(max(cubs.R))\n",
        "print(Run)\n",
        "\n"
      ],
      "metadata": {
        "colab": {
          "base_uri": "https://localhost:8080/"
        },
        "id": "jSxq5x1pnOg6",
        "outputId": "8b8c09cd-d1f8-49d2-99f2-38524197e197"
      },
      "execution_count": null,
      "outputs": [
        {
          "output_type": "stream",
          "name": "stdout",
          "text": [
            "1056\n"
          ]
        }
      ]
    },
    {
      "cell_type": "code",
      "source": [],
      "metadata": {
        "id": "Y6cnCdqZxgsz"
      },
      "execution_count": null,
      "outputs": []
    },
    {
      "cell_type": "code",
      "source": [
        "Run=(cubs.R==1056)\n",
        "print(df.loc[Run])"
      ],
      "metadata": {
        "colab": {
          "base_uri": "https://localhost:8080/"
        },
        "id": "20pvL_AwbBj1",
        "outputId": "0befe5ce-1076-4c3b-d620-6748233f9b99"
      },
      "execution_count": null,
      "outputs": [
        {
          "output_type": "stream",
          "name": "stdout",
          "text": [
            "     Year             Tm  Lg    G   W   L  Ties   W-L%  pythW-L%     Finish  \\\n",
            "128  1894  Chicago Colts  NL  137  57  75     5  0.432      0.49  8th of 12   \n",
            "\n",
            "     ... Playoffs     R    RA  Attendance  BatAge  PAge  #Bat  #P  \\\n",
            "128  ...      NaN  1056  1080    239000.0    27.3  26.6    22   9   \n",
            "\n",
            "           Top Player         Managers  \n",
            "128  C.Griffith (5.9)  C.Anson (57-75)  \n",
            "\n",
            "[1 rows x 21 columns]\n"
          ]
        }
      ]
    },
    {
      "cell_type": "code",
      "source": [
        "Run=(min(cubs.R))\n",
        "print(Run)"
      ],
      "metadata": {
        "colab": {
          "base_uri": "https://localhost:8080/"
        },
        "id": "rrS6aO-W6vDk",
        "outputId": "b1cbb012-83b0-4142-fd6d-9e39e503b1d3"
      },
      "execution_count": null,
      "outputs": [
        {
          "output_type": "stream",
          "name": "stdout",
          "text": [
            "265\n"
          ]
        }
      ]
    },
    {
      "cell_type": "code",
      "source": [
        "Run=(cubs.R==265)\n",
        "print(df.loc[Run])"
      ],
      "metadata": {
        "colab": {
          "base_uri": "https://localhost:8080/"
        },
        "id": "6P1XsoNvbGs3",
        "outputId": "7f398eae-79a7-458f-dc03-ab86880005e6"
      },
      "execution_count": null,
      "outputs": [
        {
          "output_type": "stream",
          "name": "stdout",
          "text": [
            "   Year            Tm          Lg   G   W   L  Ties   W-L%  pythW-L%  \\\n",
            "2  2020  Chicago Cubs  NL Central  60  34  26     0  0.567     0.545   \n",
            "\n",
            "     Finish  ...         Playoffs    R   RA  Attendance  BatAge  PAge  #Bat  \\\n",
            "2  1st of 5  ...  Lost NLWC (2-0)  265  240         NaN    27.9  30.3    47   \n",
            "\n",
            "   #P       Top Player        Managers  \n",
            "2  26  Y.Darvish (2.8)  D.Ross (34-26)  \n",
            "\n",
            "[1 rows x 21 columns]\n"
          ]
        }
      ]
    },
    {
      "cell_type": "code",
      "source": [
        "print (cubs.describe())"
      ],
      "metadata": {
        "colab": {
          "base_uri": "https://localhost:8080/"
        },
        "id": "0YGSGM5i-nl3",
        "outputId": "50d25578-076a-4b2a-904d-18cadf6db1a5"
      },
      "execution_count": null,
      "outputs": [
        {
          "output_type": "stream",
          "name": "stdout",
          "text": [
            "              Year           G           W           L        Ties  \\\n",
            "count   147.000000  147.000000  147.000000  147.000000  147.000000   \n",
            "mean   1949.000000  148.938776   75.789116   72.054422    1.095238   \n",
            "std      42.579338   22.060696   14.857419   18.405174    1.454013   \n",
            "min    1876.000000   60.000000   26.000000   14.000000    0.000000   \n",
            "25%    1912.500000  152.500000   67.000000   64.000000    0.000000   \n",
            "50%    1949.000000  155.000000   76.000000   74.000000    1.000000   \n",
            "75%    1985.500000  162.000000   85.000000   86.000000    2.000000   \n",
            "max    2022.000000  164.000000  116.000000  103.000000    6.000000   \n",
            "\n",
            "             W-L%    pythW-L%            R           RA    Attendance  \\\n",
            "count  147.000000  147.000000   147.000000   147.000000  1.320000e+02   \n",
            "mean     0.516993    0.518776   685.278912   662.435374  1.308329e+06   \n",
            "std      0.090367    0.086550   115.150514   137.451115  9.447810e+05   \n",
            "min      0.364000    0.376000   265.000000   240.000000  1.025360e+05   \n",
            "25%      0.445500    0.450500   624.000000   602.500000  5.734092e+05   \n",
            "50%      0.506000    0.501000   689.000000   683.000000  9.797275e+05   \n",
            "75%      0.572000    0.566000   751.000000   750.500000  2.048606e+06   \n",
            "max      0.798000    0.835000  1056.000000  1080.000000  3.300200e+06   \n",
            "\n",
            "           BatAge        PAge        #Bat          #P  \n",
            "count  147.000000  147.000000  147.000000  147.000000  \n",
            "mean    28.139456   27.691156   35.278912   15.408163  \n",
            "std      1.344882    2.001743   10.224723    6.746643  \n",
            "min     23.900000   21.200000   11.000000    2.000000  \n",
            "25%     27.250000   26.900000   29.000000   11.000000  \n",
            "50%     28.200000   28.000000   37.000000   15.000000  \n",
            "75%     29.100000   28.850000   42.000000   18.500000  \n",
            "max     31.300000   33.100000   69.000000   40.000000  \n"
          ]
        }
      ]
    },
    {
      "cell_type": "code",
      "source": [
        "Run=(cubs.R==265)\n",
        "print(df.loc[Run])"
      ],
      "metadata": {
        "colab": {
          "base_uri": "https://localhost:8080/"
        },
        "id": "_8lDyjM_B-do",
        "outputId": "99486875-8f59-4488-e67e-220c94675c76"
      },
      "execution_count": null,
      "outputs": [
        {
          "output_type": "stream",
          "name": "stdout",
          "text": [
            "   Year            Tm          Lg   G   W   L  Ties   W-L%  pythW-L%  \\\n",
            "2  2020  Chicago Cubs  NL Central  60  34  26     0  0.567     0.545   \n",
            "\n",
            "     Finish  ...         Playoffs    R   RA  Attendance  BatAge  PAge  #Bat  \\\n",
            "2  1st of 5  ...  Lost NLWC (2-0)  265  240         NaN    27.9  30.3    47   \n",
            "\n",
            "   #P       Top Player        Managers  \n",
            "2  26  Y.Darvish (2.8)  D.Ross (34-26)  \n",
            "\n",
            "[1 rows x 21 columns]\n"
          ]
        }
      ]
    },
    {
      "cell_type": "markdown",
      "source": [],
      "metadata": {
        "id": "paEDqR_PUwEZ"
      }
    },
    {
      "cell_type": "code",
      "source": [],
      "metadata": {
        "id": "QD2udNXhxLn4"
      },
      "execution_count": null,
      "outputs": []
    },
    {
      "cell_type": "markdown",
      "source": [
        "# My thoughts: Cubs scored the fewest runs in 2020 because the fewest games (60) were played, probally due to COVID."
      ],
      "metadata": {
        "id": "Nrw_TwnhXM3e"
      }
    },
    {
      "cell_type": "markdown",
      "source": [
        "#Question 3C"
      ],
      "metadata": {
        "id": "UEN_rwTnJMid"
      }
    },
    {
      "cell_type": "markdown",
      "source": [
        "# New Section"
      ],
      "metadata": {
        "id": "laLdbeQQw7Fz"
      }
    },
    {
      "cell_type": "code",
      "source": [
        "Att=(cubs.Attendance>=3000000)\n",
        "print(df.loc[Att])"
      ],
      "metadata": {
        "colab": {
          "base_uri": "https://localhost:8080/"
        },
        "id": "42CY9XhrU00q",
        "outputId": "bf7afca8-bbeb-42ac-fc44-fce61e473e78"
      },
      "execution_count": null,
      "outputs": [
        {
          "output_type": "stream",
          "name": "stdout",
          "text": [
            "    Year            Tm          Lg    G    W   L  Ties   W-L%  pythW-L%  \\\n",
            "3   2019  Chicago Cubs  NL Central  162   84  78     0  0.519     0.558   \n",
            "4   2018  Chicago Cubs  NL Central  163   95  68     0  0.583     0.575   \n",
            "5   2017  Chicago Cubs  NL Central  162   92  70     0  0.568     0.576   \n",
            "6   2016  Chicago Cubs  NL Central  162  103  58     1  0.640     0.665   \n",
            "11  2011  Chicago Cubs  NL Central  162   71  91     0  0.438     0.434   \n",
            "12  2010  Chicago Cubs  NL Central  162   75  87     0  0.463     0.448   \n",
            "13  2009  Chicago Cubs  NL Central  161   83  78     0  0.516     0.523   \n",
            "14  2008  Chicago Cubs  NL Central  161   97  64     0  0.602     0.609   \n",
            "15  2007  Chicago Cubs  NL Central  162   85  77     0  0.525     0.539   \n",
            "16  2006  Chicago Cubs  NL Central  162   66  96     0  0.407     0.431   \n",
            "17  2005  Chicago Cubs  NL Central  162   79  83     0  0.488     0.493   \n",
            "18  2004  Chicago Cubs  NL Central  162   89  73     0  0.549     0.578   \n",
            "\n",
            "      Finish  ...         Playoffs    R   RA  Attendance  BatAge  PAge  #Bat  \\\n",
            "3   3rd of 5  ...              NaN  814  717   3094865.0    27.7  31.1    52   \n",
            "4   2nd of 5  ...  Lost NLWC (1-0)  761  645   3181089.0    27.2  30.2    50   \n",
            "5   1st of 5  ...  Lost NLCS (4-1)  822  695   3199562.0    27.1  30.8    47   \n",
            "6   1st of 5  ...     Won WS (4-3)  808  556   3232420.0    27.4  29.9    45   \n",
            "11  5th of 6  ...              NaN  654  756   3017966.0    29.3  29.4    42   \n",
            "12  5th of 6  ...              NaN  685  767   3062973.0    29.4  28.2    44   \n",
            "13  2nd of 6  ...              NaN  707  672   3168859.0    29.9  28.4    45   \n",
            "14  1st of 6  ...  Lost NLDS (3-0)  855  671   3300200.0    30.1  28.9    42   \n",
            "15  1st of 6  ...  Lost NLDS (3-0)  752  690   3252462.0    29.3  28.4    47   \n",
            "16  6th of 6  ...              NaN  716  834   3123215.0    28.6  28.0    46   \n",
            "17  4th of 6  ...              NaN  703  714   3099992.0    29.7  28.2    46   \n",
            "18  3rd of 6  ...              NaN  789  665   3170154.0    30.1  29.1    43   \n",
            "\n",
            "    #P        Top Player                                Managers  \n",
            "3   33      J.Baez (6.6)                        J.Maddon (84-78)  \n",
            "4   35      J.Baez (6.4)                        J.Maddon (95-68)  \n",
            "5   28    K.Bryant (5.7)                        J.Maddon (92-70)  \n",
            "6   26    K.Bryant (7.3)                       J.Maddon (103-58)  \n",
            "11  22    S.Castro (3.2)                         M.Quade (71-91)  \n",
            "12  23      M.Byrd (3.7)  L.Piniella (51-74) and M.Quade (24-13)  \n",
            "13  24       D.Lee (5.4)                      L.Piniella (83-78)  \n",
            "14  23  R.Dempster (6.8)                      L.Piniella (97-64)  \n",
            "15  22   A.Ramirez (5.3)                      L.Piniella (85-77)  \n",
            "16  23  C.Zambrano (5.7)                         D.Baker (66-96)  \n",
            "17  22       D.Lee (7.7)                         D.Baker (79-83)  \n",
            "18  19  C.Zambrano (7.2)                         D.Baker (89-73)  \n",
            "\n",
            "[12 rows x 21 columns]\n"
          ]
        }
      ]
    }
  ]
}