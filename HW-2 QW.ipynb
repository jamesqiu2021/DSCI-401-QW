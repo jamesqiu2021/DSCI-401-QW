{
  "nbformat": 4,
  "nbformat_minor": 0,
  "metadata": {
    "colab": {
      "provenance": [],
      "authorship_tag": "ABX9TyPRZBzerZhX4jGpoRefG0MJ",
      "include_colab_link": true
    },
    "kernelspec": {
      "name": "python3",
      "display_name": "Python 3"
    },
    "language_info": {
      "name": "python"
    }
  },
  "cells": [
    {
      "cell_type": "markdown",
      "metadata": {
        "id": "view-in-github",
        "colab_type": "text"
      },
      "source": [
        "<a href=\"https://colab.research.google.com/github/jamesqiu2021/DSCI-401-QW/blob/main/HW-2%20QW.ipynb\" target=\"_parent\"><img src=\"https://colab.research.google.com/assets/colab-badge.svg\" alt=\"Open In Colab\"/></a>"
      ]
    },
    {
      "cell_type": "code",
      "execution_count": 2,
      "metadata": {
        "colab": {
          "base_uri": "https://localhost:8080/"
        },
        "id": "Z_G-59GFWWnj",
        "outputId": "1858e737-ac2a-4014-f17e-c383a4fae921"
      },
      "outputs": [
        {
          "output_type": "stream",
          "name": "stdout",
          "text": [
            "Index(['yearID', 'lgID', 'teamID', 'franchID', 'divID', 'Rank', 'G', 'Ghome',\n",
            "       'W', 'L', 'DivWin', 'WCWin', 'LgWin', 'WSWin', 'R', 'AB', 'H', 'X2B',\n",
            "       'X3B', 'HR', 'BB', 'SO', 'SB', 'CS', 'HBP', 'SF', 'RA', 'ER', 'ERA',\n",
            "       'CG', 'SHO', 'SV', 'IPouts', 'HA', 'HRA', 'BBA', 'SOA', 'E', 'DP', 'FP',\n",
            "       'name', 'park', 'attendance', 'BPF', 'PPF', 'teamIDBR',\n",
            "       'teamIDlahman45', 'teamIDretro'],\n",
            "      dtype='object')\n"
          ]
        },
        {
          "output_type": "execute_result",
          "data": {
            "text/plain": [
              "<bound method NDFrame.head of       yearID lgID teamID franchID divID  Rank    G  Ghome    W    L  ...   DP  \\\n",
              "0       1871  NaN    BS1      BNA   NaN     3   31    NaN   20   10  ...   24   \n",
              "1       1871  NaN    CH1      CNA   NaN     2   28    NaN   19    9  ...   16   \n",
              "2       1871  NaN    CL1      CFC   NaN     8   29    NaN   10   19  ...   15   \n",
              "3       1871  NaN    FW1      KEK   NaN     7   19    NaN    7   12  ...    8   \n",
              "4       1871  NaN    NY2      NNA   NaN     5   33    NaN   16   17  ...   14   \n",
              "...      ...  ...    ...      ...   ...   ...  ...    ...  ...  ...  ...  ...   \n",
              "2980    2021   NL    SLN      STL     C     2  162   81.0   90   72  ...  137   \n",
              "2981    2021   AL    TBA      TBD     E     1  162   81.0  100   62  ...  130   \n",
              "2982    2021   AL    TEX      TEX     W     5  162   81.0   60  102  ...  146   \n",
              "2983    2021   AL    TOR      TOR     E     4  162   80.0   91   71  ...  122   \n",
              "2984    2021   NL    WAS      WSN     E     5  162   81.0   65   97  ...  116   \n",
              "\n",
              "         FP                     name                          park  \\\n",
              "0     0.834     Boston Red Stockings           South End Grounds I   \n",
              "1     0.829  Chicago White Stockings       Union Base-Ball Grounds   \n",
              "2     0.818   Cleveland Forest Citys  National Association Grounds   \n",
              "3     0.803     Fort Wayne Kekiongas                Hamilton Field   \n",
              "4     0.840         New York Mutuals      Union Grounds (Brooklyn)   \n",
              "...     ...                      ...                           ...   \n",
              "2980  0.986      St. Louis Cardinals             Busch Stadium III   \n",
              "2981  0.986           Tampa Bay Rays               Tropicana Field   \n",
              "2982  0.986            Texas Rangers              Globe Life Field   \n",
              "2983  0.984        Toronto Blue Jays                  Sahlen Field   \n",
              "2984  0.983     Washington Nationals                Nationals Park   \n",
              "\n",
              "      attendance  BPF  PPF  teamIDBR  teamIDlahman45  teamIDretro  \n",
              "0            NaN  103   98       BOS             BS1          BS1  \n",
              "1            NaN  104  102       CHI             CH1          CH1  \n",
              "2            NaN   96  100       CLE             CL1          CL1  \n",
              "3            NaN  101  107       KEK             FW1          FW1  \n",
              "4            NaN   90   88       NYU             NY2          NY2  \n",
              "...          ...  ...  ...       ...             ...          ...  \n",
              "2980   2102530.0   92   92       STL             SLN          SLN  \n",
              "2981    761072.0   92   91       TBR             TBA          TBA  \n",
              "2982   2110258.0   99  101       TEX             TEX          TEX  \n",
              "2983    805901.0  102  101       TOR             TOR          TOR  \n",
              "2984   1465543.0   95   96       WSN             MON          WAS  \n",
              "\n",
              "[2985 rows x 48 columns]>"
            ]
          },
          "metadata": {},
          "execution_count": 2
        }
      ],
      "source": [
        "import pandas as pd\n",
        "Teams = pd.read_csv(\"https://raw.githubusercontent.com/gjm112/DSCI401/main/data/Teams.csv\")\n",
        "print(Teams.columns)\n",
        "Teams.head"
      ]
    },
    {
      "cell_type": "markdown",
      "source": [],
      "metadata": {
        "id": "dcnFcN0vWYxV"
      }
    },
    {
      "cell_type": "markdown",
      "source": [
        "# 1 (a) Create a data frame that is a subset of the Teams data frame that contains only the years from 2000 through 2009 and the variables yearID, W, and L."
      ],
      "metadata": {
        "id": "59rCDqM4W4kW"
      }
    },
    {
      "cell_type": "code",
      "source": [
        "Teams[[\"yearID\",\"W\",\"L\"]][Teams.yearID >= 2000][Teams.yearID <= 2009]\n"
      ],
      "metadata": {
        "colab": {
          "base_uri": "https://localhost:8080/",
          "height": 458
        },
        "id": "nk5CgeyRW9R7",
        "outputId": "e25db372-97d5-4694-cc3c-1c2c78c41480"
      },
      "execution_count": 17,
      "outputs": [
        {
          "output_type": "stream",
          "name": "stderr",
          "text": [
            "/usr/local/lib/python3.7/dist-packages/ipykernel_launcher.py:1: UserWarning: Boolean Series key will be reindexed to match DataFrame index.\n",
            "  \"\"\"Entry point for launching an IPython kernel.\n"
          ]
        },
        {
          "output_type": "execute_result",
          "data": {
            "text/plain": [
              "      yearID   W    L\n",
              "2325    2000  82   80\n",
              "2326    2000  85   77\n",
              "2327    2000  95   67\n",
              "2328    2000  74   88\n",
              "2329    2000  85   77\n",
              "...      ...  ..  ...\n",
              "2620    2009  91   71\n",
              "2621    2009  84   78\n",
              "2622    2009  87   75\n",
              "2623    2009  75   87\n",
              "2624    2009  59  103\n",
              "\n",
              "[300 rows x 3 columns]"
            ],
            "text/html": [
              "\n",
              "  <div id=\"df-0dd1ffcb-0d6d-48b0-9703-fb468ac67c6d\">\n",
              "    <div class=\"colab-df-container\">\n",
              "      <div>\n",
              "<style scoped>\n",
              "    .dataframe tbody tr th:only-of-type {\n",
              "        vertical-align: middle;\n",
              "    }\n",
              "\n",
              "    .dataframe tbody tr th {\n",
              "        vertical-align: top;\n",
              "    }\n",
              "\n",
              "    .dataframe thead th {\n",
              "        text-align: right;\n",
              "    }\n",
              "</style>\n",
              "<table border=\"1\" class=\"dataframe\">\n",
              "  <thead>\n",
              "    <tr style=\"text-align: right;\">\n",
              "      <th></th>\n",
              "      <th>yearID</th>\n",
              "      <th>W</th>\n",
              "      <th>L</th>\n",
              "    </tr>\n",
              "  </thead>\n",
              "  <tbody>\n",
              "    <tr>\n",
              "      <th>2325</th>\n",
              "      <td>2000</td>\n",
              "      <td>82</td>\n",
              "      <td>80</td>\n",
              "    </tr>\n",
              "    <tr>\n",
              "      <th>2326</th>\n",
              "      <td>2000</td>\n",
              "      <td>85</td>\n",
              "      <td>77</td>\n",
              "    </tr>\n",
              "    <tr>\n",
              "      <th>2327</th>\n",
              "      <td>2000</td>\n",
              "      <td>95</td>\n",
              "      <td>67</td>\n",
              "    </tr>\n",
              "    <tr>\n",
              "      <th>2328</th>\n",
              "      <td>2000</td>\n",
              "      <td>74</td>\n",
              "      <td>88</td>\n",
              "    </tr>\n",
              "    <tr>\n",
              "      <th>2329</th>\n",
              "      <td>2000</td>\n",
              "      <td>85</td>\n",
              "      <td>77</td>\n",
              "    </tr>\n",
              "    <tr>\n",
              "      <th>...</th>\n",
              "      <td>...</td>\n",
              "      <td>...</td>\n",
              "      <td>...</td>\n",
              "    </tr>\n",
              "    <tr>\n",
              "      <th>2620</th>\n",
              "      <td>2009</td>\n",
              "      <td>91</td>\n",
              "      <td>71</td>\n",
              "    </tr>\n",
              "    <tr>\n",
              "      <th>2621</th>\n",
              "      <td>2009</td>\n",
              "      <td>84</td>\n",
              "      <td>78</td>\n",
              "    </tr>\n",
              "    <tr>\n",
              "      <th>2622</th>\n",
              "      <td>2009</td>\n",
              "      <td>87</td>\n",
              "      <td>75</td>\n",
              "    </tr>\n",
              "    <tr>\n",
              "      <th>2623</th>\n",
              "      <td>2009</td>\n",
              "      <td>75</td>\n",
              "      <td>87</td>\n",
              "    </tr>\n",
              "    <tr>\n",
              "      <th>2624</th>\n",
              "      <td>2009</td>\n",
              "      <td>59</td>\n",
              "      <td>103</td>\n",
              "    </tr>\n",
              "  </tbody>\n",
              "</table>\n",
              "<p>300 rows × 3 columns</p>\n",
              "</div>\n",
              "      <button class=\"colab-df-convert\" onclick=\"convertToInteractive('df-0dd1ffcb-0d6d-48b0-9703-fb468ac67c6d')\"\n",
              "              title=\"Convert this dataframe to an interactive table.\"\n",
              "              style=\"display:none;\">\n",
              "        \n",
              "  <svg xmlns=\"http://www.w3.org/2000/svg\" height=\"24px\"viewBox=\"0 0 24 24\"\n",
              "       width=\"24px\">\n",
              "    <path d=\"M0 0h24v24H0V0z\" fill=\"none\"/>\n",
              "    <path d=\"M18.56 5.44l.94 2.06.94-2.06 2.06-.94-2.06-.94-.94-2.06-.94 2.06-2.06.94zm-11 1L8.5 8.5l.94-2.06 2.06-.94-2.06-.94L8.5 2.5l-.94 2.06-2.06.94zm10 10l.94 2.06.94-2.06 2.06-.94-2.06-.94-.94-2.06-.94 2.06-2.06.94z\"/><path d=\"M17.41 7.96l-1.37-1.37c-.4-.4-.92-.59-1.43-.59-.52 0-1.04.2-1.43.59L10.3 9.45l-7.72 7.72c-.78.78-.78 2.05 0 2.83L4 21.41c.39.39.9.59 1.41.59.51 0 1.02-.2 1.41-.59l7.78-7.78 2.81-2.81c.8-.78.8-2.07 0-2.86zM5.41 20L4 18.59l7.72-7.72 1.47 1.35L5.41 20z\"/>\n",
              "  </svg>\n",
              "      </button>\n",
              "      \n",
              "  <style>\n",
              "    .colab-df-container {\n",
              "      display:flex;\n",
              "      flex-wrap:wrap;\n",
              "      gap: 12px;\n",
              "    }\n",
              "\n",
              "    .colab-df-convert {\n",
              "      background-color: #E8F0FE;\n",
              "      border: none;\n",
              "      border-radius: 50%;\n",
              "      cursor: pointer;\n",
              "      display: none;\n",
              "      fill: #1967D2;\n",
              "      height: 32px;\n",
              "      padding: 0 0 0 0;\n",
              "      width: 32px;\n",
              "    }\n",
              "\n",
              "    .colab-df-convert:hover {\n",
              "      background-color: #E2EBFA;\n",
              "      box-shadow: 0px 1px 2px rgba(60, 64, 67, 0.3), 0px 1px 3px 1px rgba(60, 64, 67, 0.15);\n",
              "      fill: #174EA6;\n",
              "    }\n",
              "\n",
              "    [theme=dark] .colab-df-convert {\n",
              "      background-color: #3B4455;\n",
              "      fill: #D2E3FC;\n",
              "    }\n",
              "\n",
              "    [theme=dark] .colab-df-convert:hover {\n",
              "      background-color: #434B5C;\n",
              "      box-shadow: 0px 1px 3px 1px rgba(0, 0, 0, 0.15);\n",
              "      filter: drop-shadow(0px 1px 2px rgba(0, 0, 0, 0.3));\n",
              "      fill: #FFFFFF;\n",
              "    }\n",
              "  </style>\n",
              "\n",
              "      <script>\n",
              "        const buttonEl =\n",
              "          document.querySelector('#df-0dd1ffcb-0d6d-48b0-9703-fb468ac67c6d button.colab-df-convert');\n",
              "        buttonEl.style.display =\n",
              "          google.colab.kernel.accessAllowed ? 'block' : 'none';\n",
              "\n",
              "        async function convertToInteractive(key) {\n",
              "          const element = document.querySelector('#df-0dd1ffcb-0d6d-48b0-9703-fb468ac67c6d');\n",
              "          const dataTable =\n",
              "            await google.colab.kernel.invokeFunction('convertToInteractive',\n",
              "                                                     [key], {});\n",
              "          if (!dataTable) return;\n",
              "\n",
              "          const docLinkHtml = 'Like what you see? Visit the ' +\n",
              "            '<a target=\"_blank\" href=https://colab.research.google.com/notebooks/data_table.ipynb>data table notebook</a>'\n",
              "            + ' to learn more about interactive tables.';\n",
              "          element.innerHTML = '';\n",
              "          dataTable['output_type'] = 'display_data';\n",
              "          await google.colab.output.renderOutput(dataTable, element);\n",
              "          const docLink = document.createElement('div');\n",
              "          docLink.innerHTML = docLinkHtml;\n",
              "          element.appendChild(docLink);\n",
              "        }\n",
              "      </script>\n",
              "    </div>\n",
              "  </div>\n",
              "  "
            ]
          },
          "metadata": {},
          "execution_count": 17
        }
      ]
    }
  ]
}