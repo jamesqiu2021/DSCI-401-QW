{
  "nbformat": 4,
  "nbformat_minor": 0,
  "metadata": {
    "colab": {
      "provenance": [],
      "collapsed_sections": [],
      "authorship_tag": "ABX9TyOuZzfjmUfiDOVmP124Mi8H",
      "include_colab_link": true
    },
    "kernelspec": {
      "name": "python3",
      "display_name": "Python 3"
    },
    "language_info": {
      "name": "python"
    }
  },
  "cells": [
    {
      "cell_type": "markdown",
      "metadata": {
        "id": "view-in-github",
        "colab_type": "text"
      },
      "source": [
        "<a href=\"https://colab.research.google.com/github/jamesqiu2021/DSCI-401-QW/blob/main/Untitled4.ipynb\" target=\"_parent\"><img src=\"https://colab.research.google.com/assets/colab-badge.svg\" alt=\"Open In Colab\"/></a>"
      ]
    },
    {
      "cell_type": "code",
      "execution_count": null,
      "metadata": {
        "colab": {
          "base_uri": "https://localhost:8080/"
        },
        "id": "Z_G-59GFWWnj",
        "outputId": "4d3208e2-3f45-40b0-9862-a624419ba320"
      },
      "outputs": [
        {
          "output_type": "stream",
          "name": "stdout",
          "text": [
            "Index(['yearID', 'lgID', 'teamID', 'franchID', 'divID', 'Rank', 'G', 'Ghome',\n",
            "       'W', 'L', 'DivWin', 'WCWin', 'LgWin', 'WSWin', 'R', 'AB', 'H', 'X2B',\n",
            "       'X3B', 'HR', 'BB', 'SO', 'SB', 'CS', 'HBP', 'SF', 'RA', 'ER', 'ERA',\n",
            "       'CG', 'SHO', 'SV', 'IPouts', 'HA', 'HRA', 'BBA', 'SOA', 'E', 'DP', 'FP',\n",
            "       'name', 'park', 'attendance', 'BPF', 'PPF', 'teamIDBR',\n",
            "       'teamIDlahman45', 'teamIDretro'],\n",
            "      dtype='object')\n"
          ]
        },
        {
          "output_type": "execute_result",
          "data": {
            "text/plain": [
              "<bound method NDFrame.head of       yearID lgID teamID franchID divID  Rank    G  Ghome    W    L  ...   DP  \\\n",
              "0       1871  NaN    BS1      BNA   NaN     3   31    NaN   20   10  ...   24   \n",
              "1       1871  NaN    CH1      CNA   NaN     2   28    NaN   19    9  ...   16   \n",
              "2       1871  NaN    CL1      CFC   NaN     8   29    NaN   10   19  ...   15   \n",
              "3       1871  NaN    FW1      KEK   NaN     7   19    NaN    7   12  ...    8   \n",
              "4       1871  NaN    NY2      NNA   NaN     5   33    NaN   16   17  ...   14   \n",
              "...      ...  ...    ...      ...   ...   ...  ...    ...  ...  ...  ...  ...   \n",
              "2980    2021   NL    SLN      STL     C     2  162   81.0   90   72  ...  137   \n",
              "2981    2021   AL    TBA      TBD     E     1  162   81.0  100   62  ...  130   \n",
              "2982    2021   AL    TEX      TEX     W     5  162   81.0   60  102  ...  146   \n",
              "2983    2021   AL    TOR      TOR     E     4  162   80.0   91   71  ...  122   \n",
              "2984    2021   NL    WAS      WSN     E     5  162   81.0   65   97  ...  116   \n",
              "\n",
              "         FP                     name                          park  \\\n",
              "0     0.834     Boston Red Stockings           South End Grounds I   \n",
              "1     0.829  Chicago White Stockings       Union Base-Ball Grounds   \n",
              "2     0.818   Cleveland Forest Citys  National Association Grounds   \n",
              "3     0.803     Fort Wayne Kekiongas                Hamilton Field   \n",
              "4     0.840         New York Mutuals      Union Grounds (Brooklyn)   \n",
              "...     ...                      ...                           ...   \n",
              "2980  0.986      St. Louis Cardinals             Busch Stadium III   \n",
              "2981  0.986           Tampa Bay Rays               Tropicana Field   \n",
              "2982  0.986            Texas Rangers              Globe Life Field   \n",
              "2983  0.984        Toronto Blue Jays                  Sahlen Field   \n",
              "2984  0.983     Washington Nationals                Nationals Park   \n",
              "\n",
              "      attendance  BPF  PPF  teamIDBR  teamIDlahman45  teamIDretro  \n",
              "0            NaN  103   98       BOS             BS1          BS1  \n",
              "1            NaN  104  102       CHI             CH1          CH1  \n",
              "2            NaN   96  100       CLE             CL1          CL1  \n",
              "3            NaN  101  107       KEK             FW1          FW1  \n",
              "4            NaN   90   88       NYU             NY2          NY2  \n",
              "...          ...  ...  ...       ...             ...          ...  \n",
              "2980   2102530.0   92   92       STL             SLN          SLN  \n",
              "2981    761072.0   92   91       TBR             TBA          TBA  \n",
              "2982   2110258.0   99  101       TEX             TEX          TEX  \n",
              "2983    805901.0  102  101       TOR             TOR          TOR  \n",
              "2984   1465543.0   95   96       WSN             MON          WAS  \n",
              "\n",
              "[2985 rows x 48 columns]>"
            ]
          },
          "metadata": {},
          "execution_count": 4
        }
      ],
      "source": [
        "import pandas as pd\n",
        "import numpy as np\n",
        "\n",
        "Teams = pd.read_csv(\"https://raw.githubusercontent.com/gjm112/DSCI401/main/data/Teams.csv\")\n",
        "print(Teams.columns)\n",
        "Teams.head"
      ]
    },
    {
      "cell_type": "markdown",
      "source": [],
      "metadata": {
        "id": "dcnFcN0vWYxV"
      }
    },
    {
      "cell_type": "markdown",
      "source": [
        "# 1 (a) Create a data frame that is a subset of the Teams data frame that contains only the years from 2000 through 2009 and the variables yearID, W, and L."
      ],
      "metadata": {
        "id": "59rCDqM4W4kW"
      }
    },
    {
      "cell_type": "code",
      "source": [
        "Teams[[\"yearID\",\"W\",\"L\"]][Teams.yearID >= 2000][Teams.yearID <= 2009]\n"
      ],
      "metadata": {
        "colab": {
          "base_uri": "https://localhost:8080/",
          "height": 458
        },
        "id": "nk5CgeyRW9R7",
        "outputId": "e25db372-97d5-4694-cc3c-1c2c78c41480"
      },
      "execution_count": null,
      "outputs": [
        {
          "output_type": "stream",
          "name": "stderr",
          "text": [
            "/usr/local/lib/python3.7/dist-packages/ipykernel_launcher.py:1: UserWarning: Boolean Series key will be reindexed to match DataFrame index.\n",
            "  \"\"\"Entry point for launching an IPython kernel.\n"
          ]
        },
        {
          "output_type": "execute_result",
          "data": {
            "text/plain": [
              "      yearID   W    L\n",
              "2325    2000  82   80\n",
              "2326    2000  85   77\n",
              "2327    2000  95   67\n",
              "2328    2000  74   88\n",
              "2329    2000  85   77\n",
              "...      ...  ..  ...\n",
              "2620    2009  91   71\n",
              "2621    2009  84   78\n",
              "2622    2009  87   75\n",
              "2623    2009  75   87\n",
              "2624    2009  59  103\n",
              "\n",
              "[300 rows x 3 columns]"
            ],
            "text/html": [
              "\n",
              "  <div id=\"df-0dd1ffcb-0d6d-48b0-9703-fb468ac67c6d\">\n",
              "    <div class=\"colab-df-container\">\n",
              "      <div>\n",
              "<style scoped>\n",
              "    .dataframe tbody tr th:only-of-type {\n",
              "        vertical-align: middle;\n",
              "    }\n",
              "\n",
              "    .dataframe tbody tr th {\n",
              "        vertical-align: top;\n",
              "    }\n",
              "\n",
              "    .dataframe thead th {\n",
              "        text-align: right;\n",
              "    }\n",
              "</style>\n",
              "<table border=\"1\" class=\"dataframe\">\n",
              "  <thead>\n",
              "    <tr style=\"text-align: right;\">\n",
              "      <th></th>\n",
              "      <th>yearID</th>\n",
              "      <th>W</th>\n",
              "      <th>L</th>\n",
              "    </tr>\n",
              "  </thead>\n",
              "  <tbody>\n",
              "    <tr>\n",
              "      <th>2325</th>\n",
              "      <td>2000</td>\n",
              "      <td>82</td>\n",
              "      <td>80</td>\n",
              "    </tr>\n",
              "    <tr>\n",
              "      <th>2326</th>\n",
              "      <td>2000</td>\n",
              "      <td>85</td>\n",
              "      <td>77</td>\n",
              "    </tr>\n",
              "    <tr>\n",
              "      <th>2327</th>\n",
              "      <td>2000</td>\n",
              "      <td>95</td>\n",
              "      <td>67</td>\n",
              "    </tr>\n",
              "    <tr>\n",
              "      <th>2328</th>\n",
              "      <td>2000</td>\n",
              "      <td>74</td>\n",
              "      <td>88</td>\n",
              "    </tr>\n",
              "    <tr>\n",
              "      <th>2329</th>\n",
              "      <td>2000</td>\n",
              "      <td>85</td>\n",
              "      <td>77</td>\n",
              "    </tr>\n",
              "    <tr>\n",
              "      <th>...</th>\n",
              "      <td>...</td>\n",
              "      <td>...</td>\n",
              "      <td>...</td>\n",
              "    </tr>\n",
              "    <tr>\n",
              "      <th>2620</th>\n",
              "      <td>2009</td>\n",
              "      <td>91</td>\n",
              "      <td>71</td>\n",
              "    </tr>\n",
              "    <tr>\n",
              "      <th>2621</th>\n",
              "      <td>2009</td>\n",
              "      <td>84</td>\n",
              "      <td>78</td>\n",
              "    </tr>\n",
              "    <tr>\n",
              "      <th>2622</th>\n",
              "      <td>2009</td>\n",
              "      <td>87</td>\n",
              "      <td>75</td>\n",
              "    </tr>\n",
              "    <tr>\n",
              "      <th>2623</th>\n",
              "      <td>2009</td>\n",
              "      <td>75</td>\n",
              "      <td>87</td>\n",
              "    </tr>\n",
              "    <tr>\n",
              "      <th>2624</th>\n",
              "      <td>2009</td>\n",
              "      <td>59</td>\n",
              "      <td>103</td>\n",
              "    </tr>\n",
              "  </tbody>\n",
              "</table>\n",
              "<p>300 rows × 3 columns</p>\n",
              "</div>\n",
              "      <button class=\"colab-df-convert\" onclick=\"convertToInteractive('df-0dd1ffcb-0d6d-48b0-9703-fb468ac67c6d')\"\n",
              "              title=\"Convert this dataframe to an interactive table.\"\n",
              "              style=\"display:none;\">\n",
              "        \n",
              "  <svg xmlns=\"http://www.w3.org/2000/svg\" height=\"24px\"viewBox=\"0 0 24 24\"\n",
              "       width=\"24px\">\n",
              "    <path d=\"M0 0h24v24H0V0z\" fill=\"none\"/>\n",
              "    <path d=\"M18.56 5.44l.94 2.06.94-2.06 2.06-.94-2.06-.94-.94-2.06-.94 2.06-2.06.94zm-11 1L8.5 8.5l.94-2.06 2.06-.94-2.06-.94L8.5 2.5l-.94 2.06-2.06.94zm10 10l.94 2.06.94-2.06 2.06-.94-2.06-.94-.94-2.06-.94 2.06-2.06.94z\"/><path d=\"M17.41 7.96l-1.37-1.37c-.4-.4-.92-.59-1.43-.59-.52 0-1.04.2-1.43.59L10.3 9.45l-7.72 7.72c-.78.78-.78 2.05 0 2.83L4 21.41c.39.39.9.59 1.41.59.51 0 1.02-.2 1.41-.59l7.78-7.78 2.81-2.81c.8-.78.8-2.07 0-2.86zM5.41 20L4 18.59l7.72-7.72 1.47 1.35L5.41 20z\"/>\n",
              "  </svg>\n",
              "      </button>\n",
              "      \n",
              "  <style>\n",
              "    .colab-df-container {\n",
              "      display:flex;\n",
              "      flex-wrap:wrap;\n",
              "      gap: 12px;\n",
              "    }\n",
              "\n",
              "    .colab-df-convert {\n",
              "      background-color: #E8F0FE;\n",
              "      border: none;\n",
              "      border-radius: 50%;\n",
              "      cursor: pointer;\n",
              "      display: none;\n",
              "      fill: #1967D2;\n",
              "      height: 32px;\n",
              "      padding: 0 0 0 0;\n",
              "      width: 32px;\n",
              "    }\n",
              "\n",
              "    .colab-df-convert:hover {\n",
              "      background-color: #E2EBFA;\n",
              "      box-shadow: 0px 1px 2px rgba(60, 64, 67, 0.3), 0px 1px 3px 1px rgba(60, 64, 67, 0.15);\n",
              "      fill: #174EA6;\n",
              "    }\n",
              "\n",
              "    [theme=dark] .colab-df-convert {\n",
              "      background-color: #3B4455;\n",
              "      fill: #D2E3FC;\n",
              "    }\n",
              "\n",
              "    [theme=dark] .colab-df-convert:hover {\n",
              "      background-color: #434B5C;\n",
              "      box-shadow: 0px 1px 3px 1px rgba(0, 0, 0, 0.15);\n",
              "      filter: drop-shadow(0px 1px 2px rgba(0, 0, 0, 0.3));\n",
              "      fill: #FFFFFF;\n",
              "    }\n",
              "  </style>\n",
              "\n",
              "      <script>\n",
              "        const buttonEl =\n",
              "          document.querySelector('#df-0dd1ffcb-0d6d-48b0-9703-fb468ac67c6d button.colab-df-convert');\n",
              "        buttonEl.style.display =\n",
              "          google.colab.kernel.accessAllowed ? 'block' : 'none';\n",
              "\n",
              "        async function convertToInteractive(key) {\n",
              "          const element = document.querySelector('#df-0dd1ffcb-0d6d-48b0-9703-fb468ac67c6d');\n",
              "          const dataTable =\n",
              "            await google.colab.kernel.invokeFunction('convertToInteractive',\n",
              "                                                     [key], {});\n",
              "          if (!dataTable) return;\n",
              "\n",
              "          const docLinkHtml = 'Like what you see? Visit the ' +\n",
              "            '<a target=\"_blank\" href=https://colab.research.google.com/notebooks/data_table.ipynb>data table notebook</a>'\n",
              "            + ' to learn more about interactive tables.';\n",
              "          element.innerHTML = '';\n",
              "          dataTable['output_type'] = 'display_data';\n",
              "          await google.colab.output.renderOutput(dataTable, element);\n",
              "          const docLink = document.createElement('div');\n",
              "          docLink.innerHTML = docLinkHtml;\n",
              "          element.appendChild(docLink);\n",
              "        }\n",
              "      </script>\n",
              "    </div>\n",
              "  </div>\n",
              "  "
            ]
          },
          "metadata": {},
          "execution_count": 17
        }
      ]
    },
    {
      "cell_type": "markdown",
      "source": [
        "# 1 (b) How many years did the Chicago Cubs (teamID is \\CHN\") hit at least 200 HRs in a season and what was the median number of wins in those seasons."
      ],
      "metadata": {
        "id": "5Q2hV-glbcQr"
      }
    },
    {
      "cell_type": "code",
      "source": [
        "Myteams = Teams[Teams.teamID == \"CHN\"] [Teams.HR >= 200] \n",
        "len(Myteams) \n"
      ],
      "metadata": {
        "colab": {
          "base_uri": "https://localhost:8080/"
        },
        "id": "gNzQyr8Xbi_h",
        "outputId": "20329f43-52a8-43d9-be95-7eb02604541d"
      },
      "execution_count": null,
      "outputs": [
        {
          "output_type": "stream",
          "name": "stderr",
          "text": [
            "/usr/local/lib/python3.7/dist-packages/ipykernel_launcher.py:1: UserWarning: Boolean Series key will be reindexed to match DataFrame index.\n",
            "  \"\"\"Entry point for launching an IPython kernel.\n"
          ]
        },
        {
          "output_type": "execute_result",
          "data": {
            "text/plain": [
              "7"
            ]
          },
          "metadata": {},
          "execution_count": 27
        }
      ]
    },
    {
      "cell_type": "markdown",
      "source": [
        "#There wre 7 years that CHN hit at least 200HRs."
      ],
      "metadata": {
        "id": "16fWW61afTX1"
      }
    },
    {
      "cell_type": "code",
      "source": [
        "Myteams_average_W = Myteams[\"W\"].mean()\n",
        "Myteams_average_W"
      ],
      "metadata": {
        "colab": {
          "base_uri": "https://localhost:8080/"
        },
        "id": "gM4UmO5FiAJM",
        "outputId": "e90b47b6-ac73-4ca7-adb6-d12b2412a456"
      },
      "execution_count": null,
      "outputs": [
        {
          "output_type": "execute_result",
          "data": {
            "text/plain": [
              "81.28571428571429"
            ]
          },
          "metadata": {},
          "execution_count": 50
        }
      ]
    },
    {
      "cell_type": "markdown",
      "source": [
        "# 1(c) Create a factor called election that divides the yearID into 4-year blocks that correspond to U.S. presidential terms. The first presidential term started in 1788. They each last 4 years and are still on the schedule set in 1788. During which term have the most home runs been hit?"
      ],
      "metadata": {
        "id": "5-fxawj0l5Bt"
      }
    },
    {
      "cell_type": "code",
      "source": [
        "from numpy import linspace\n",
        "yearBreaks =np.arange(1788,2021,4)\n",
        "Teams['election'] = pd.cut(Teams[\"yearID\"],bins = yearBreaks)\n",
        "Myteams2 = Teams[[\"election\",'HR']].groupby(\"election\")[\"HR\"].sum().sort_values(ascending=False)\n",
        "Myteams2"
      ],
      "metadata": {
        "colab": {
          "base_uri": "https://localhost:8080/"
        },
        "id": "MB4Bl6Aql3T-",
        "outputId": "1ac65f81-5726-461b-aae2-8c0d5e910289"
      },
      "execution_count": null,
      "outputs": [
        {
          "output_type": "execute_result",
          "data": {
            "text/plain": [
              "election\n",
              "(2000, 2004]    21175\n",
              "(1996, 2000]    20925\n",
              "(2016, 2020]    20770\n",
              "(2004, 2008]    20238\n",
              "(2012, 2016]    19366\n",
              "(2008, 2012]    19141\n",
              "(1992, 1996]    16379\n",
              "(1984, 1988]    15053\n",
              "(1976, 1980]    13120\n",
              "(1988, 1992]    12821\n",
              "(1968, 1972]    11945\n",
              "(1980, 1984]    11719\n",
              "(1960, 1964]    11197\n",
              "(1972, 1976]    10684\n",
              "(1964, 1968]     9725\n",
              "(1956, 1960]     8820\n",
              "(1952, 1956]     8531\n",
              "(1948, 1952]     7341\n",
              "(1936, 1940]     5921\n",
              "(1944, 1948]     5342\n",
              "(1928, 1932]     5341\n",
              "(1932, 1936]     5100\n",
              "(1940, 1944]     4341\n",
              "(1924, 1928]     4047\n",
              "(1920, 1924]     3868\n",
              "(1888, 1892]     2433\n",
              "(1912, 1916]     2198\n",
              "(1892, 1896]     1981\n",
              "(1884, 1888]     1863\n",
              "(1916, 1920]     1647\n",
              "(1908, 1912]     1577\n",
              "(1900, 1904]     1475\n",
              "(1896, 1900]     1273\n",
              "(1880, 1884]     1181\n",
              "(1904, 1908]     1110\n",
              "(1872, 1876]      167\n",
              "(1876, 1880]      167\n",
              "(1868, 1872]       84\n",
              "(1792, 1796]        0\n",
              "(1828, 1832]        0\n",
              "(1796, 1800]        0\n",
              "(1800, 1804]        0\n",
              "(1804, 1808]        0\n",
              "(1808, 1812]        0\n",
              "(1812, 1816]        0\n",
              "(1816, 1820]        0\n",
              "(1820, 1824]        0\n",
              "(1824, 1828]        0\n",
              "(1836, 1840]        0\n",
              "(1832, 1836]        0\n",
              "(1840, 1844]        0\n",
              "(1844, 1848]        0\n",
              "(1848, 1852]        0\n",
              "(1852, 1856]        0\n",
              "(1856, 1860]        0\n",
              "(1860, 1864]        0\n",
              "(1864, 1868]        0\n",
              "(1788, 1792]        0\n",
              "Name: HR, dtype: int64"
            ]
          },
          "metadata": {},
          "execution_count": 232
        }
      ]
    },
    {
      "cell_type": "markdown",
      "source": [
        "# 1(d) Make a line plot of total home runs per season and stratify by league. Remove observations where league is missing.\n"
      ],
      "metadata": {
        "id": "EQUOtUqLWbmf"
      }
    },
    {
      "cell_type": "code",
      "source": [
        "THRteams = Teams[[\"lgID\",\"yearID\",\"HR\"]].groupby(\"lgID\")[\"HR\"].sum().sort_values(ascending=False)\n",
        "THRteams"
      ],
      "metadata": {
        "colab": {
          "base_uri": "https://localhost:8080/"
        },
        "id": "xpUoe3IS63gY",
        "outputId": "3b906022-c9e3-4137-df68-2247670b156b"
      },
      "execution_count": null,
      "outputs": [
        {
          "output_type": "execute_result",
          "data": {
            "text/plain": [
              "lgID\n",
              "AL    157488\n",
              "NL    155413\n",
              "AA      1907\n",
              "FL       546\n",
              "PL       320\n",
              "UA       125\n",
              "Name: HR, dtype: int64"
            ]
          },
          "metadata": {},
          "execution_count": 254
        }
      ]
    },
    {
      "cell_type": "code",
      "source": [
        "import seaborn as sns\n",
        "sns.lineplot(data=Teams, x=\"yearID\", y=\"HR\", hue=\"lgID\")"
      ],
      "metadata": {
        "id": "tB2CuOsV3Rka",
        "colab": {
          "base_uri": "https://localhost:8080/",
          "height": 296
        },
        "outputId": "0a69a902-f104-4da1-aa51-c59315a6066f"
      },
      "execution_count": null,
      "outputs": [
        {
          "output_type": "execute_result",
          "data": {
            "text/plain": [
              "<matplotlib.axes._subplots.AxesSubplot at 0x7fea6bfefe90>"
            ]
          },
          "metadata": {},
          "execution_count": 5
        },
        {
          "output_type": "display_data",
          "data": {
            "text/plain": [
              "<Figure size 432x288 with 1 Axes>"
            ],
            "image/png": "[encoded data removed]"
          },
          "metadata": {
            "needs_background": "light"
          }
        }
      ]
    },
    {
      "cell_type": "code",
      "source": [
        "pip install dfply"
      ],
      "metadata": {
        "colab": {
          "base_uri": "https://localhost:8080/"
        },
        "id": "5iDDZFZulAum",
        "outputId": "2a33adc6-88cd-4f13-bf6e-c6657cf8b7f3"
      },
      "execution_count": null,
      "outputs": [
        {
          "output_type": "stream",
          "name": "stdout",
          "text": [
            "Looking in indexes: https://pypi.org/simple, https://us-python.pkg.dev/colab-wheels/public/simple/\n",
            "Collecting dfply\n",
            "  Downloading dfply-0.3.3-py3-none-any.whl (612 kB)\n",
            "\u001b[K     |████████████████████████████████| 612 kB 6.8 MB/s \n",
            "\u001b[?25hRequirement already satisfied: pandas in /usr/local/lib/python3.7/dist-packages (from dfply) (1.3.5)\n",
            "Requirement already satisfied: numpy in /usr/local/lib/python3.7/dist-packages (from dfply) (1.21.6)\n",
            "Requirement already satisfied: python-dateutil>=2.7.3 in /usr/local/lib/python3.7/dist-packages (from pandas->dfply) (2.8.2)\n",
            "Requirement already satisfied: pytz>=2017.3 in /usr/local/lib/python3.7/dist-packages (from pandas->dfply) (2022.2.1)\n",
            "Requirement already satisfied: six>=1.5 in /usr/local/lib/python3.7/dist-packages (from python-dateutil>=2.7.3->pandas->dfply) (1.15.0)\n",
            "Installing collected packages: dfply\n",
            "Successfully installed dfply-0.3.3\n"
          ]
        }
      ]
    },
    {
      "cell_type": "markdown",
      "source": [
        "# 1(e) Create an indicator variable called winning_record\" which is defined as TRUE if the number of wins is greater than the number of losses and FALSE otherwise. Plot a scatter plot of Runs (R) vs Runs against (RA) with the color of each point showing whether that team had a winning record or not."
      ],
      "metadata": {
        "id": "ukUlYIfIZnYS"
      }
    },
    {
      "cell_type": "code",
      "source": [
        "Teams[\"Winning_record\"]=np.where(Teams[\"W\"] > Teams[\"L\"],\"TRUE\",\"FALSE\")                           \n",
        "print (Teams)"
      ],
      "metadata": {
        "colab": {
          "base_uri": "https://localhost:8080/"
        },
        "id": "ictPtXZ9Z3bL",
        "outputId": "d8521472-4787-4821-cf4c-25e75b390b63"
      },
      "execution_count": null,
      "outputs": [
        {
          "output_type": "stream",
          "name": "stdout",
          "text": [
            "      yearID lgID teamID franchID divID  Rank    G  Ghome    W    L  ...  \\\n",
            "0       1871  NaN    BS1      BNA   NaN     3   31    NaN   20   10  ...   \n",
            "1       1871  NaN    CH1      CNA   NaN     2   28    NaN   19    9  ...   \n",
            "2       1871  NaN    CL1      CFC   NaN     8   29    NaN   10   19  ...   \n",
            "3       1871  NaN    FW1      KEK   NaN     7   19    NaN    7   12  ...   \n",
            "4       1871  NaN    NY2      NNA   NaN     5   33    NaN   16   17  ...   \n",
            "...      ...  ...    ...      ...   ...   ...  ...    ...  ...  ...  ...   \n",
            "2980    2021   NL    SLN      STL     C     2  162   81.0   90   72  ...   \n",
            "2981    2021   AL    TBA      TBD     E     1  162   81.0  100   62  ...   \n",
            "2982    2021   AL    TEX      TEX     W     5  162   81.0   60  102  ...   \n",
            "2983    2021   AL    TOR      TOR     E     4  162   80.0   91   71  ...   \n",
            "2984    2021   NL    WAS      WSN     E     5  162   81.0   65   97  ...   \n",
            "\n",
            "         FP                     name                          park attendance  \\\n",
            "0     0.834     Boston Red Stockings           South End Grounds I        NaN   \n",
            "1     0.829  Chicago White Stockings       Union Base-Ball Grounds        NaN   \n",
            "2     0.818   Cleveland Forest Citys  National Association Grounds        NaN   \n",
            "3     0.803     Fort Wayne Kekiongas                Hamilton Field        NaN   \n",
            "4     0.840         New York Mutuals      Union Grounds (Brooklyn)        NaN   \n",
            "...     ...                      ...                           ...        ...   \n",
            "2980  0.986      St. Louis Cardinals             Busch Stadium III  2102530.0   \n",
            "2981  0.986           Tampa Bay Rays               Tropicana Field   761072.0   \n",
            "2982  0.986            Texas Rangers              Globe Life Field  2110258.0   \n",
            "2983  0.984        Toronto Blue Jays                  Sahlen Field   805901.0   \n",
            "2984  0.983     Washington Nationals                Nationals Park  1465543.0   \n",
            "\n",
            "      BPF  PPF  teamIDBR  teamIDlahman45  teamIDretro  Winning_record  \n",
            "0     103   98       BOS             BS1          BS1            TRUE  \n",
            "1     104  102       CHI             CH1          CH1            TRUE  \n",
            "2      96  100       CLE             CL1          CL1           FALSE  \n",
            "3     101  107       KEK             FW1          FW1           FALSE  \n",
            "4      90   88       NYU             NY2          NY2           FALSE  \n",
            "...   ...  ...       ...             ...          ...             ...  \n",
            "2980   92   92       STL             SLN          SLN            TRUE  \n",
            "2981   92   91       TBR             TBA          TBA            TRUE  \n",
            "2982   99  101       TEX             TEX          TEX           FALSE  \n",
            "2983  102  101       TOR             TOR          TOR            TRUE  \n",
            "2984   95   96       WSN             MON          WAS           FALSE  \n",
            "\n",
            "[2985 rows x 49 columns]\n"
          ]
        }
      ]
    },
    {
      "cell_type": "code",
      "source": [
        "sns.scatterplot (x=\"R\",y=\"RA\",hue=\"Winning_record\",data=Teams)"
      ],
      "metadata": {
        "colab": {
          "base_uri": "https://localhost:8080/",
          "height": 296
        },
        "id": "xdE9WFx_NP9V",
        "outputId": "044eab5e-11df-4d9d-f866-56275e34d0e8"
      },
      "execution_count": null,
      "outputs": [
        {
          "output_type": "execute_result",
          "data": {
            "text/plain": [
              "<matplotlib.axes._subplots.AxesSubplot at 0x7fea69979610>"
            ]
          },
          "metadata": {},
          "execution_count": 9
        },
        {
          "output_type": "display_data",
          "data": {
            "text/plain": [
              "<Figure size 432x288 with 1 Axes>"
            ],
            "image/png": "[encoded data removed]"
          },
          "metadata": {
            "needs_background": "light"
          }
        }
      ]
    },
    {
      "cell_type": "markdown",
      "source": [
        "# 2(a) What month had the highest proportion of cancelled fights? What month had the lowest? Interpret any seasonal patterns."
      ],
      "metadata": {
        "id": "6sMqTMkIPbqO"
      }
    },
    {
      "cell_type": "code",
      "source": [
        "pip install nycflights13"
      ],
      "metadata": {
        "colab": {
          "base_uri": "https://localhost:8080/"
        },
        "id": "Ny7_VmsOPZyF",
        "outputId": "302e3633-b816-4e7b-ac97-b2403ea39659"
      },
      "execution_count": null,
      "outputs": [
        {
          "output_type": "stream",
          "name": "stdout",
          "text": [
            "Looking in indexes: https://pypi.org/simple, https://us-python.pkg.dev/colab-wheels/public/simple/\n",
            "Collecting nycflights13\n",
            "  Downloading nycflights13-0.0.3.tar.gz (8.7 MB)\n",
            "\u001b[K     |████████████████████████████████| 8.7 MB 7.2 MB/s \n",
            "\u001b[?25hRequirement already satisfied: pandas>=0.24.0 in /usr/local/lib/python3.7/dist-packages (from nycflights13) (1.3.5)\n",
            "Requirement already satisfied: numpy>=1.17.3 in /usr/local/lib/python3.7/dist-packages (from pandas>=0.24.0->nycflights13) (1.21.6)\n",
            "Requirement already satisfied: python-dateutil>=2.7.3 in /usr/local/lib/python3.7/dist-packages (from pandas>=0.24.0->nycflights13) (2.8.2)\n",
            "Requirement already satisfied: pytz>=2017.3 in /usr/local/lib/python3.7/dist-packages (from pandas>=0.24.0->nycflights13) (2022.2.1)\n",
            "Requirement already satisfied: six>=1.5 in /usr/local/lib/python3.7/dist-packages (from python-dateutil>=2.7.3->pandas>=0.24.0->nycflights13) (1.15.0)\n",
            "Building wheels for collected packages: nycflights13\n",
            "  Building wheel for nycflights13 (setup.py) ... \u001b[?25l\u001b[?25hdone\n",
            "  Created wheel for nycflights13: filename=nycflights13-0.0.3-py3-none-any.whl size=8732743 sha256=8e2a5a113f8a17a197b2d4ca9ad4fcec6ec93f111361068f27ecba6ba59dcf0f\n",
            "  Stored in directory: /root/.cache/pip/wheels/06/80/a2/4e4b03a8bef54cc4779cbf19b9aad738d859a70bb3b982f8e3\n",
            "Successfully built nycflights13\n",
            "Installing collected packages: nycflights13\n",
            "Successfully installed nycflights13-0.0.3\n"
          ]
        }
      ]
    },
    {
      "cell_type": "code",
      "source": [
        "from nycflights13 import flights"
      ],
      "metadata": {
        "id": "OQCI4gdxRh8Y"
      },
      "execution_count": null,
      "outputs": []
    },
    {
      "cell_type": "code",
      "source": [
        "flights.head()"
      ],
      "metadata": {
        "colab": {
          "base_uri": "https://localhost:8080/",
          "height": 357
        },
        "id": "2yhAf-PmSC1V",
        "outputId": "60978403-c7db-4475-f72a-5899c9372994"
      },
      "execution_count": null,
      "outputs": [
        {
          "output_type": "execute_result",
          "data": {
            "text/plain": [
              "   year  month  day  dep_time  sched_dep_time  dep_delay  arr_time  \\\n",
              "0  2013      1    1     517.0             515        2.0     830.0   \n",
              "1  2013      1    1     533.0             529        4.0     850.0   \n",
              "2  2013      1    1     542.0             540        2.0     923.0   \n",
              "3  2013      1    1     544.0             545       -1.0    1004.0   \n",
              "4  2013      1    1     554.0             600       -6.0     812.0   \n",
              "\n",
              "   sched_arr_time  arr_delay carrier  flight tailnum origin dest  air_time  \\\n",
              "0             819       11.0      UA    1545  N14228    EWR  IAH     227.0   \n",
              "1             830       20.0      UA    1714  N24211    LGA  IAH     227.0   \n",
              "2             850       33.0      AA    1141  N619AA    JFK  MIA     160.0   \n",
              "3            1022      -18.0      B6     725  N804JB    JFK  BQN     183.0   \n",
              "4             837      -25.0      DL     461  N668DN    LGA  ATL     116.0   \n",
              "\n",
              "   distance  hour  minute             time_hour  \n",
              "0      1400     5      15  2013-01-01T10:00:00Z  \n",
              "1      1416     5      29  2013-01-01T10:00:00Z  \n",
              "2      1089     5      40  2013-01-01T10:00:00Z  \n",
              "3      1576     5      45  2013-01-01T10:00:00Z  \n",
              "4       762     6       0  2013-01-01T11:00:00Z  "
            ],
            "text/html": [
              "\n",
              "  <div id=\"df-5de26ba2-3aa1-4dde-a4a7-416682bc0759\">\n",
              "    <div class=\"colab-df-container\">\n",
              "      <div>\n",
              "<style scoped>\n",
              "    .dataframe tbody tr th:only-of-type {\n",
              "        vertical-align: middle;\n",
              "    }\n",
              "\n",
              "    .dataframe tbody tr th {\n",
              "        vertical-align: top;\n",
              "    }\n",
              "\n",
              "    .dataframe thead th {\n",
              "        text-align: right;\n",
              "    }\n",
              "</style>\n",
              "<table border=\"1\" class=\"dataframe\">\n",
              "  <thead>\n",
              "    <tr style=\"text-align: right;\">\n",
              "      <th></th>\n",
              "      <th>year</th>\n",
              "      <th>month</th>\n",
              "      <th>day</th>\n",
              "      <th>dep_time</th>\n",
              "      <th>sched_dep_time</th>\n",
              "      <th>dep_delay</th>\n",
              "      <th>arr_time</th>\n",
              "      <th>sched_arr_time</th>\n",
              "      <th>arr_delay</th>\n",
              "      <th>carrier</th>\n",
              "      <th>flight</th>\n",
              "      <th>tailnum</th>\n",
              "      <th>origin</th>\n",
              "      <th>dest</th>\n",
              "      <th>air_time</th>\n",
              "      <th>distance</th>\n",
              "      <th>hour</th>\n",
              "      <th>minute</th>\n",
              "      <th>time_hour</th>\n",
              "    </tr>\n",
              "  </thead>\n",
              "  <tbody>\n",
              "    <tr>\n",
              "      <th>0</th>\n",
              "      <td>2013</td>\n",
              "      <td>1</td>\n",
              "      <td>1</td>\n",
              "      <td>517.0</td>\n",
              "      <td>515</td>\n",
              "      <td>2.0</td>\n",
              "      <td>830.0</td>\n",
              "      <td>819</td>\n",
              "      <td>11.0</td>\n",
              "      <td>UA</td>\n",
              "      <td>1545</td>\n",
              "      <td>N14228</td>\n",
              "      <td>EWR</td>\n",
              "      <td>IAH</td>\n",
              "      <td>227.0</td>\n",
              "      <td>1400</td>\n",
              "      <td>5</td>\n",
              "      <td>15</td>\n",
              "      <td>2013-01-01T10:00:00Z</td>\n",
              "    </tr>\n",
              "    <tr>\n",
              "      <th>1</th>\n",
              "      <td>2013</td>\n",
              "      <td>1</td>\n",
              "      <td>1</td>\n",
              "      <td>533.0</td>\n",
              "      <td>529</td>\n",
              "      <td>4.0</td>\n",
              "      <td>850.0</td>\n",
              "      <td>830</td>\n",
              "      <td>20.0</td>\n",
              "      <td>UA</td>\n",
              "      <td>1714</td>\n",
              "      <td>N24211</td>\n",
              "      <td>LGA</td>\n",
              "      <td>IAH</td>\n",
              "      <td>227.0</td>\n",
              "      <td>1416</td>\n",
              "      <td>5</td>\n",
              "      <td>29</td>\n",
              "      <td>2013-01-01T10:00:00Z</td>\n",
              "    </tr>\n",
              "    <tr>\n",
              "      <th>2</th>\n",
              "      <td>2013</td>\n",
              "      <td>1</td>\n",
              "      <td>1</td>\n",
              "      <td>542.0</td>\n",
              "      <td>540</td>\n",
              "      <td>2.0</td>\n",
              "      <td>923.0</td>\n",
              "      <td>850</td>\n",
              "      <td>33.0</td>\n",
              "      <td>AA</td>\n",
              "      <td>1141</td>\n",
              "      <td>N619AA</td>\n",
              "      <td>JFK</td>\n",
              "      <td>MIA</td>\n",
              "      <td>160.0</td>\n",
              "      <td>1089</td>\n",
              "      <td>5</td>\n",
              "      <td>40</td>\n",
              "      <td>2013-01-01T10:00:00Z</td>\n",
              "    </tr>\n",
              "    <tr>\n",
              "      <th>3</th>\n",
              "      <td>2013</td>\n",
              "      <td>1</td>\n",
              "      <td>1</td>\n",
              "      <td>544.0</td>\n",
              "      <td>545</td>\n",
              "      <td>-1.0</td>\n",
              "      <td>1004.0</td>\n",
              "      <td>1022</td>\n",
              "      <td>-18.0</td>\n",
              "      <td>B6</td>\n",
              "      <td>725</td>\n",
              "      <td>N804JB</td>\n",
              "      <td>JFK</td>\n",
              "      <td>BQN</td>\n",
              "      <td>183.0</td>\n",
              "      <td>1576</td>\n",
              "      <td>5</td>\n",
              "      <td>45</td>\n",
              "      <td>2013-01-01T10:00:00Z</td>\n",
              "    </tr>\n",
              "    <tr>\n",
              "      <th>4</th>\n",
              "      <td>2013</td>\n",
              "      <td>1</td>\n",
              "      <td>1</td>\n",
              "      <td>554.0</td>\n",
              "      <td>600</td>\n",
              "      <td>-6.0</td>\n",
              "      <td>812.0</td>\n",
              "      <td>837</td>\n",
              "      <td>-25.0</td>\n",
              "      <td>DL</td>\n",
              "      <td>461</td>\n",
              "      <td>N668DN</td>\n",
              "      <td>LGA</td>\n",
              "      <td>ATL</td>\n",
              "      <td>116.0</td>\n",
              "      <td>762</td>\n",
              "      <td>6</td>\n",
              "      <td>0</td>\n",
              "      <td>2013-01-01T11:00:00Z</td>\n",
              "    </tr>\n",
              "  </tbody>\n",
              "</table>\n",
              "</div>\n",
              "      <button class=\"colab-df-convert\" onclick=\"convertToInteractive('df-5de26ba2-3aa1-4dde-a4a7-416682bc0759')\"\n",
              "              title=\"Convert this dataframe to an interactive table.\"\n",
              "              style=\"display:none;\">\n",
              "        \n",
              "  <svg xmlns=\"http://www.w3.org/2000/svg\" height=\"24px\"viewBox=\"0 0 24 24\"\n",
              "       width=\"24px\">\n",
              "    <path d=\"M0 0h24v24H0V0z\" fill=\"none\"/>\n",
              "    <path d=\"M18.56 5.44l.94 2.06.94-2.06 2.06-.94-2.06-.94-.94-2.06-.94 2.06-2.06.94zm-11 1L8.5 8.5l.94-2.06 2.06-.94-2.06-.94L8.5 2.5l-.94 2.06-2.06.94zm10 10l.94 2.06.94-2.06 2.06-.94-2.06-.94-.94-2.06-.94 2.06-2.06.94z\"/><path d=\"M17.41 7.96l-1.37-1.37c-.4-.4-.92-.59-1.43-.59-.52 0-1.04.2-1.43.59L10.3 9.45l-7.72 7.72c-.78.78-.78 2.05 0 2.83L4 21.41c.39.39.9.59 1.41.59.51 0 1.02-.2 1.41-.59l7.78-7.78 2.81-2.81c.8-.78.8-2.07 0-2.86zM5.41 20L4 18.59l7.72-7.72 1.47 1.35L5.41 20z\"/>\n",
              "  </svg>\n",
              "      </button>\n",
              "      \n",
              "  <style>\n",
              "    .colab-df-container {\n",
              "      display:flex;\n",
              "      flex-wrap:wrap;\n",
              "      gap: 12px;\n",
              "    }\n",
              "\n",
              "    .colab-df-convert {\n",
              "      background-color: #E8F0FE;\n",
              "      border: none;\n",
              "      border-radius: 50%;\n",
              "      cursor: pointer;\n",
              "      display: none;\n",
              "      fill: #1967D2;\n",
              "      height: 32px;\n",
              "      padding: 0 0 0 0;\n",
              "      width: 32px;\n",
              "    }\n",
              "\n",
              "    .colab-df-convert:hover {\n",
              "      background-color: #E2EBFA;\n",
              "      box-shadow: 0px 1px 2px rgba(60, 64, 67, 0.3), 0px 1px 3px 1px rgba(60, 64, 67, 0.15);\n",
              "      fill: #174EA6;\n",
              "    }\n",
              "\n",
              "    [theme=dark] .colab-df-convert {\n",
              "      background-color: #3B4455;\n",
              "      fill: #D2E3FC;\n",
              "    }\n",
              "\n",
              "    [theme=dark] .colab-df-convert:hover {\n",
              "      background-color: #434B5C;\n",
              "      box-shadow: 0px 1px 3px 1px rgba(0, 0, 0, 0.15);\n",
              "      filter: drop-shadow(0px 1px 2px rgba(0, 0, 0, 0.3));\n",
              "      fill: #FFFFFF;\n",
              "    }\n",
              "  </style>\n",
              "\n",
              "      <script>\n",
              "        const buttonEl =\n",
              "          document.querySelector('#df-5de26ba2-3aa1-4dde-a4a7-416682bc0759 button.colab-df-convert');\n",
              "        buttonEl.style.display =\n",
              "          google.colab.kernel.accessAllowed ? 'block' : 'none';\n",
              "\n",
              "        async function convertToInteractive(key) {\n",
              "          const element = document.querySelector('#df-5de26ba2-3aa1-4dde-a4a7-416682bc0759');\n",
              "          const dataTable =\n",
              "            await google.colab.kernel.invokeFunction('convertToInteractive',\n",
              "                                                     [key], {});\n",
              "          if (!dataTable) return;\n",
              "\n",
              "          const docLinkHtml = 'Like what you see? Visit the ' +\n",
              "            '<a target=\"_blank\" href=https://colab.research.google.com/notebooks/data_table.ipynb>data table notebook</a>'\n",
              "            + ' to learn more about interactive tables.';\n",
              "          element.innerHTML = '';\n",
              "          dataTable['output_type'] = 'display_data';\n",
              "          await google.colab.output.renderOutput(dataTable, element);\n",
              "          const docLink = document.createElement('div');\n",
              "          docLink.innerHTML = docLinkHtml;\n",
              "          element.appendChild(docLink);\n",
              "        }\n",
              "      </script>\n",
              "    </div>\n",
              "  </div>\n",
              "  "
            ]
          },
          "metadata": {},
          "execution_count": 16
        }
      ]
    },
    {
      "cell_type": "code",
      "source": [
        "flights[\"Cancelled_flight\"]=np.where(flights[\"arr_time\"] == \"NaN\", \"1\",\"0\") \n",
        "print(flights)\n",
        "flights[[\"month\",\"Cancelled_flight\"]].dropna(how=\"any\").groupby(\"month\").sum(\"Cancelled_flight\")"
      ],
      "metadata": {
        "colab": {
          "base_uri": "https://localhost:8080/",
          "height": 1000
        },
        "id": "x1nNpzQ69pDP",
        "outputId": "fa96c234-66f8-4535-e4f4-069dd656bf14"
      },
      "execution_count": 214,
      "outputs": [
        {
          "output_type": "stream",
          "name": "stdout",
          "text": [
            "        year  month  day  dep_time  sched_dep_time  dep_delay  arr_time  \\\n",
            "0       2013      1    1     517.0             515        2.0     830.0   \n",
            "1       2013      1    1     533.0             529        4.0     850.0   \n",
            "2       2013      1    1     542.0             540        2.0     923.0   \n",
            "3       2013      1    1     544.0             545       -1.0    1004.0   \n",
            "4       2013      1    1     554.0             600       -6.0     812.0   \n",
            "...      ...    ...  ...       ...             ...        ...       ...   \n",
            "336771  2013      9   30       NaN            1455        NaN       NaN   \n",
            "336772  2013      9   30       NaN            2200        NaN       NaN   \n",
            "336773  2013      9   30       NaN            1210        NaN       NaN   \n",
            "336774  2013      9   30       NaN            1159        NaN       NaN   \n",
            "336775  2013      9   30       NaN             840        NaN       NaN   \n",
            "\n",
            "        sched_arr_time  arr_delay carrier  ...  dest air_time distance hour  \\\n",
            "0                  819       11.0      UA  ...   IAH    227.0     1400    5   \n",
            "1                  830       20.0      UA  ...   IAH    227.0     1416    5   \n",
            "2                  850       33.0      AA  ...   MIA    160.0     1089    5   \n",
            "3                 1022      -18.0      B6  ...   BQN    183.0     1576    5   \n",
            "4                  837      -25.0      DL  ...   ATL    116.0      762    6   \n",
            "...                ...        ...     ...  ...   ...      ...      ...  ...   \n",
            "336771            1634        NaN      9E  ...   DCA      NaN      213   14   \n",
            "336772            2312        NaN      9E  ...   SYR      NaN      198   22   \n",
            "336773            1330        NaN      MQ  ...   BNA      NaN      764   12   \n",
            "336774            1344        NaN      MQ  ...   CLE      NaN      419   11   \n",
            "336775            1020        NaN      MQ  ...   RDU      NaN      431    8   \n",
            "\n",
            "        minute             time_hour  delay  Cancelled_flights Cancelled  \\\n",
            "0           15  2013-01-01T10:00:00Z  False                  0         0   \n",
            "1           29  2013-01-01T10:00:00Z  False                  0         0   \n",
            "2           40  2013-01-01T10:00:00Z  False                  0         0   \n",
            "3           45  2013-01-01T10:00:00Z  False                  0         0   \n",
            "4            0  2013-01-01T11:00:00Z  False                  0         0   \n",
            "...        ...                   ...    ...                ...       ...   \n",
            "336771      55  2013-09-30T18:00:00Z  False                  0         0   \n",
            "336772       0  2013-10-01T02:00:00Z  False                  0         0   \n",
            "336773      10  2013-09-30T16:00:00Z  False                  0         0   \n",
            "336774      59  2013-09-30T15:00:00Z  False                  0         0   \n",
            "336775      40  2013-09-30T12:00:00Z  False                  0         0   \n",
            "\n",
            "        Cancelled_flight  \n",
            "0                      0  \n",
            "1                      0  \n",
            "2                      0  \n",
            "3                      0  \n",
            "4                      0  \n",
            "...                  ...  \n",
            "336771                 0  \n",
            "336772                 0  \n",
            "336773                 0  \n",
            "336774                 0  \n",
            "336775                 0  \n",
            "\n",
            "[336776 rows x 23 columns]\n"
          ]
        },
        {
          "output_type": "execute_result",
          "data": {
            "text/plain": [
              "Empty DataFrame\n",
              "Columns: []\n",
              "Index: [1, 2, 3, 4, 5, 6, 7, 8, 9, 10, 11, 12]"
            ],
            "text/html": [
              "\n",
              "  <div id=\"df-1d33ffca-bc05-4f66-a8a6-c1c131828428\">\n",
              "    <div class=\"colab-df-container\">\n",
              "      <div>\n",
              "<style scoped>\n",
              "    .dataframe tbody tr th:only-of-type {\n",
              "        vertical-align: middle;\n",
              "    }\n",
              "\n",
              "    .dataframe tbody tr th {\n",
              "        vertical-align: top;\n",
              "    }\n",
              "\n",
              "    .dataframe thead th {\n",
              "        text-align: right;\n",
              "    }\n",
              "</style>\n",
              "<table border=\"1\" class=\"dataframe\">\n",
              "  <thead>\n",
              "    <tr style=\"text-align: right;\">\n",
              "      <th></th>\n",
              "    </tr>\n",
              "    <tr>\n",
              "      <th>month</th>\n",
              "    </tr>\n",
              "  </thead>\n",
              "  <tbody>\n",
              "    <tr>\n",
              "      <th>1</th>\n",
              "    </tr>\n",
              "    <tr>\n",
              "      <th>2</th>\n",
              "    </tr>\n",
              "    <tr>\n",
              "      <th>3</th>\n",
              "    </tr>\n",
              "    <tr>\n",
              "      <th>4</th>\n",
              "    </tr>\n",
              "    <tr>\n",
              "      <th>5</th>\n",
              "    </tr>\n",
              "    <tr>\n",
              "      <th>6</th>\n",
              "    </tr>\n",
              "    <tr>\n",
              "      <th>7</th>\n",
              "    </tr>\n",
              "    <tr>\n",
              "      <th>8</th>\n",
              "    </tr>\n",
              "    <tr>\n",
              "      <th>9</th>\n",
              "    </tr>\n",
              "    <tr>\n",
              "      <th>10</th>\n",
              "    </tr>\n",
              "    <tr>\n",
              "      <th>11</th>\n",
              "    </tr>\n",
              "    <tr>\n",
              "      <th>12</th>\n",
              "    </tr>\n",
              "  </tbody>\n",
              "</table>\n",
              "</div>\n",
              "      <button class=\"colab-df-convert\" onclick=\"convertToInteractive('df-1d33ffca-bc05-4f66-a8a6-c1c131828428')\"\n",
              "              title=\"Convert this dataframe to an interactive table.\"\n",
              "              style=\"display:none;\">\n",
              "        \n",
              "  <svg xmlns=\"http://www.w3.org/2000/svg\" height=\"24px\"viewBox=\"0 0 24 24\"\n",
              "       width=\"24px\">\n",
              "    <path d=\"M0 0h24v24H0V0z\" fill=\"none\"/>\n",
              "    <path d=\"M18.56 5.44l.94 2.06.94-2.06 2.06-.94-2.06-.94-.94-2.06-.94 2.06-2.06.94zm-11 1L8.5 8.5l.94-2.06 2.06-.94-2.06-.94L8.5 2.5l-.94 2.06-2.06.94zm10 10l.94 2.06.94-2.06 2.06-.94-2.06-.94-.94-2.06-.94 2.06-2.06.94z\"/><path d=\"M17.41 7.96l-1.37-1.37c-.4-.4-.92-.59-1.43-.59-.52 0-1.04.2-1.43.59L10.3 9.45l-7.72 7.72c-.78.78-.78 2.05 0 2.83L4 21.41c.39.39.9.59 1.41.59.51 0 1.02-.2 1.41-.59l7.78-7.78 2.81-2.81c.8-.78.8-2.07 0-2.86zM5.41 20L4 18.59l7.72-7.72 1.47 1.35L5.41 20z\"/>\n",
              "  </svg>\n",
              "      </button>\n",
              "      \n",
              "  <style>\n",
              "    .colab-df-container {\n",
              "      display:flex;\n",
              "      flex-wrap:wrap;\n",
              "      gap: 12px;\n",
              "    }\n",
              "\n",
              "    .colab-df-convert {\n",
              "      background-color: #E8F0FE;\n",
              "      border: none;\n",
              "      border-radius: 50%;\n",
              "      cursor: pointer;\n",
              "      display: none;\n",
              "      fill: #1967D2;\n",
              "      height: 32px;\n",
              "      padding: 0 0 0 0;\n",
              "      width: 32px;\n",
              "    }\n",
              "\n",
              "    .colab-df-convert:hover {\n",
              "      background-color: #E2EBFA;\n",
              "      box-shadow: 0px 1px 2px rgba(60, 64, 67, 0.3), 0px 1px 3px 1px rgba(60, 64, 67, 0.15);\n",
              "      fill: #174EA6;\n",
              "    }\n",
              "\n",
              "    [theme=dark] .colab-df-convert {\n",
              "      background-color: #3B4455;\n",
              "      fill: #D2E3FC;\n",
              "    }\n",
              "\n",
              "    [theme=dark] .colab-df-convert:hover {\n",
              "      background-color: #434B5C;\n",
              "      box-shadow: 0px 1px 3px 1px rgba(0, 0, 0, 0.15);\n",
              "      filter: drop-shadow(0px 1px 2px rgba(0, 0, 0, 0.3));\n",
              "      fill: #FFFFFF;\n",
              "    }\n",
              "  </style>\n",
              "\n",
              "      <script>\n",
              "        const buttonEl =\n",
              "          document.querySelector('#df-1d33ffca-bc05-4f66-a8a6-c1c131828428 button.colab-df-convert');\n",
              "        buttonEl.style.display =\n",
              "          google.colab.kernel.accessAllowed ? 'block' : 'none';\n",
              "\n",
              "        async function convertToInteractive(key) {\n",
              "          const element = document.querySelector('#df-1d33ffca-bc05-4f66-a8a6-c1c131828428');\n",
              "          const dataTable =\n",
              "            await google.colab.kernel.invokeFunction('convertToInteractive',\n",
              "                                                     [key], {});\n",
              "          if (!dataTable) return;\n",
              "\n",
              "          const docLinkHtml = 'Like what you see? Visit the ' +\n",
              "            '<a target=\"_blank\" href=https://colab.research.google.com/notebooks/data_table.ipynb>data table notebook</a>'\n",
              "            + ' to learn more about interactive tables.';\n",
              "          element.innerHTML = '';\n",
              "          dataTable['output_type'] = 'display_data';\n",
              "          await google.colab.output.renderOutput(dataTable, element);\n",
              "          const docLink = document.createElement('div');\n",
              "          docLink.innerHTML = docLinkHtml;\n",
              "          element.appendChild(docLink);\n",
              "        }\n",
              "      </script>\n",
              "    </div>\n",
              "  </div>\n",
              "  "
            ]
          },
          "metadata": {},
          "execution_count": 214
        }
      ]
    },
    {
      "cell_type": "markdown",
      "source": [
        "# Unfortunetely I cannot figure it out why I cannot switch the new varible (cancelled_flights) to \"1\" when \"dep_time\" was NaN. I think the code should be correct but cannot get it to work. "
      ],
      "metadata": {
        "id": "y1_2zcfLHymQ"
      }
    },
    {
      "cell_type": "markdown",
      "source": [],
      "metadata": {
        "id": "TT497gV1PaYX"
      }
    },
    {
      "cell_type": "markdown",
      "source": [
        "# 2(b) Given that a delay is longer than an hour, what is the average time of the total delay by airport (i.e. origin)"
      ],
      "metadata": {
        "id": "R3kdfBc7JuDu"
      }
    },
    {
      "cell_type": "code",
      "source": [
        "flights[flights.arr_delay > 60][[\"arr_delay\",\"origin\"]].groupby('origin').mean()[\"arr_delay\"]"
      ],
      "metadata": {
        "colab": {
          "base_uri": "https://localhost:8080/"
        },
        "id": "XxPAld5bQwit",
        "outputId": "1a09d035-7081-47e0-c3e2-c21aee40cc05"
      },
      "execution_count": null,
      "outputs": [
        {
          "output_type": "execute_result",
          "data": {
            "text/plain": [
              "origin\n",
              "EWR    120.080943\n",
              "JFK    120.008503\n",
              "LGA    124.083678\n",
              "Name: arr_delay, dtype: float64"
            ]
          },
          "metadata": {},
          "execution_count": 126
        }
      ]
    },
    {
      "cell_type": "markdown",
      "source": [
        "# 2(c) What is the average air time for all fights by carrier? Which carrier has the longest average air time on their fights?"
      ],
      "metadata": {
        "id": "sSt_5jCRXZnR"
      }
    },
    {
      "cell_type": "code",
      "source": [
        "flights.loc[flights[\"air_time\"].dropna()].groupby(\"carrier\")[\"air_time\"].mean().sort_values(ascending=False)"
      ],
      "metadata": {
        "colab": {
          "base_uri": "https://localhost:8080/"
        },
        "id": "T8Vh2onmX7MU",
        "outputId": "92ea1d09-6eff-4435-ec63-c44403d6bb18"
      },
      "execution_count": null,
      "outputs": [
        {
          "output_type": "execute_result",
          "data": {
            "text/plain": [
              "carrier\n",
              "HA    659.000000\n",
              "VX    351.620840\n",
              "AS    337.993972\n",
              "F9    256.986589\n",
              "UA    240.252069\n",
              "AA    194.802046\n",
              "9E    187.837812\n",
              "DL    167.237160\n",
              "WN    158.692151\n",
              "B6    153.263552\n",
              "US    129.736885\n",
              "FL    128.681829\n",
              "MQ    105.108433\n",
              "EV     98.932510\n",
              "Name: air_time, dtype: float64"
            ]
          },
          "metadata": {},
          "execution_count": 135
        }
      ]
    },
    {
      "cell_type": "markdown",
      "source": [
        "# 2(d) Keeping only fights that had a delay greater than 0, create a histogram for each month of the delay data."
      ],
      "metadata": {
        "id": "h6Zh2ucOZm5u"
      }
    },
    {
      "cell_type": "code",
      "source": [
        "delay_flights = flights[flights[\"arr_delay\"] >0]\n",
        "sns.histplot(delay_flights,x=\"month\",y=\"arr_delay\",hue=\"carrier\",bins=10)"
      ],
      "metadata": {
        "colab": {
          "base_uri": "https://localhost:8080/",
          "height": 311
        },
        "id": "sryxx8NaZ2hH",
        "outputId": "7b97bcd5-185b-4eea-ab7e-a796ea368fb9"
      },
      "execution_count": null,
      "outputs": [
        {
          "output_type": "execute_result",
          "data": {
            "text/plain": [
              "<matplotlib.axes._subplots.AxesSubplot at 0x7fea4d8fb650>"
            ]
          },
          "metadata": {},
          "execution_count": 144
        },
        {
          "output_type": "display_data",
          "data": {
            "text/plain": [
              "<Figure size 432x288 with 1 Axes>"
            ],
            "image/png": "[encoded data removed]"
          },
          "metadata": {
            "needs_background": "light"
          }
        }
      ]
    },
    {
      "cell_type": "markdown",
      "source": [
        "# 2(e) Create side-by-side boxplots of delay times for flights with delays 60 minutes or greater for the top"
      ],
      "metadata": {
        "id": "Dqtutkh4dZ2N"
      }
    },
    {
      "cell_type": "code",
      "source": [
        "g = flights[flights[\"arr_delay\"] >=60]\n",
        "sns.boxplot(g.arr_delay)"
      ],
      "metadata": {
        "colab": {
          "base_uri": "https://localhost:8080/",
          "height": 352
        },
        "id": "zl-Oa1hMiGjr",
        "outputId": "72ebae5a-0e08-4c00-a5ca-fea0a119b5e4"
      },
      "execution_count": null,
      "outputs": [
        {
          "output_type": "stream",
          "name": "stderr",
          "text": [
            "/usr/local/lib/python3.7/dist-packages/seaborn/_decorators.py:43: FutureWarning: Pass the following variable as a keyword arg: x. From version 0.12, the only valid positional argument will be `data`, and passing other arguments without an explicit keyword will result in an error or misinterpretation.\n",
            "  FutureWarning\n"
          ]
        },
        {
          "output_type": "execute_result",
          "data": {
            "text/plain": [
              "<matplotlib.axes._subplots.AxesSubplot at 0x7fea4d59ea10>"
            ]
          },
          "metadata": {},
          "execution_count": 163
        },
        {
          "output_type": "display_data",
          "data": {
            "text/plain": [
              "<Figure size 432x288 with 1 Axes>"
            ],
            "image/png": "[encoded data removed]"
          },
          "metadata": {
            "needs_background": "light"
          }
        }
      ]
    }
  ]
}