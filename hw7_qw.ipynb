{
  "nbformat": 4,
  "nbformat_minor": 0,
  "metadata": {
    "colab": {
      "provenance": [],
      "authorship_tag": "ABX9TyNu2nUz3k5C2HDSbX6iDoEo",
      "include_colab_link": true
    },
    "kernelspec": {
      "name": "python3",
      "display_name": "Python 3"
    },
    "language_info": {
      "name": "python"
    }
  },
  "cells": [
    {
      "cell_type": "markdown",
      "metadata": {
        "id": "view-in-github",
        "colab_type": "text"
      },
      "source": [
        "<a href=\"https://colab.research.google.com/github/jamesqiu2021/DSCI-401-QW/blob/main/hw7_qw.ipynb\" target=\"_parent\"><img src=\"https://colab.research.google.com/assets/colab-badge.svg\" alt=\"Open In Colab\"/></a>"
      ]
    },
    {
      "cell_type": "markdown",
      "source": [
        " Q1. Write a SQL query to create a list of all movies that Kevin Bacon has ever been in and convert this to a data frame object in R/Python."
      ],
      "metadata": {
        "id": "bIzTBbq9uI19"
      }
    },
    {
      "cell_type": "code",
      "execution_count": null,
      "metadata": {
        "id": "2OvdmvnIv3Mf"
      },
      "outputs": [],
      "source": [
        "pip install mysql-connector-python"
      ]
    },
    {
      "cell_type": "code",
      "source": [
        "import mysql.connector\n",
        "from mysql.connector import Error\n",
        "import pandas as pd"
      ],
      "metadata": {
        "id": "-LlGJCo6whbx"
      },
      "execution_count": null,
      "outputs": []
    },
    {
      "cell_type": "code",
      "source": [
        "def create_server_connection(host_name, user_name, user_password, database):\n",
        "    connection = None\n",
        "    try:\n",
        "        connection = mysql.connector.connect(\n",
        "            host=host_name,\n",
        "            user=user_name,\n",
        "            passwd=user_password, \n",
        "            database = database\n",
        "        )\n",
        "        print(\"MySQL Database connection successful\")\n",
        "    except Error as err:\n",
        "        print(f\"Error: '{err}'\")\n",
        "\n",
        "    return connection"
      ],
      "metadata": {
        "id": "v4NZssF1wndW"
      },
      "execution_count": null,
      "outputs": []
    },
    {
      "cell_type": "code",
      "source": [
        "connection = create_server_connection(\"scidb.smith.edu\", \"sds192\", \"DSismfc@S\",\"imdb\")\n",
        "\n",
        "def read_query(connection, query):\n",
        "    cursor = connection.cursor()\n",
        "    result = None\n",
        "    try:\n",
        "        cursor.execute(query)\n",
        "        result = cursor.fetchall()\n",
        "        return result\n",
        "    except Error as err:\n",
        "        print(f\"Error: '{err}'\")"
      ],
      "metadata": {
        "colab": {
          "base_uri": "https://localhost:8080/"
        },
        "id": "VJkK5DWmwqgf",
        "outputId": "5f354131-fd3b-4660-ce36-c29ca6d64184"
      },
      "execution_count": null,
      "outputs": [
        {
          "output_type": "stream",
          "name": "stdout",
          "text": [
            "MySQL Database connection successful\n"
          ]
        }
      ]
    },
    {
      "cell_type": "code",
      "source": [
        "q = \"\"\"SELECT DISTINCT t.title, ci.movie_id,t.production_year\n",
        "FROM name n\n",
        "JOIN cast_info ci ON ci.person_id = n.id\n",
        "JOIN title t ON t.id = ci.movie_id\n",
        "WHERE n.name='Bacon, Kevin'\n",
        "AND t.kind_id=1\n",
        "ORDER BY production_year\n",
        "DESC;\"\"\"\n",
        "\n",
        "result = read_query(connection, q)\n",
        "\n",
        "print(result)"
      ],
      "metadata": {
        "id": "6KDxUfdhsldS"
      },
      "execution_count": null,
      "outputs": []
    },
    {
      "cell_type": "code",
      "source": [
        "pd.DataFrame(result,columns = ['title','movie_id','production_year'])"
      ],
      "metadata": {
        "id": "JJzTNfy_shLN"
      },
      "execution_count": null,
      "outputs": []
    },
    {
      "cell_type": "markdown",
      "source": [
        "Q2: Find a list of every actor/actress who has appeared in a movie with Kevin Bacon."
      ],
      "metadata": {
        "id": "3mXJz6i8tJll"
      }
    },
    {
      "cell_type": "code",
      "source": [
        "q2=\"\"\"SELECT DISTINCT ci.person_id, n.name\n",
        "FROM name n\n",
        "JOIN cast_info ci ON ci.person_id = n.id\n",
        "JOIN title t ON t.id = ci.movie_id\n",
        "WHERE t.kind_id=1\n",
        "AND ci.movie_id IN \n",
        "(SELECT DISTINCT ci.movie_id\n",
        "FROM name n\n",
        "JOIN cast_info ci ON ci.person_id = n.id\n",
        "JOIN title t ON t.id = ci.movie_id\n",
        "WHERE n.name='Bacon, Kevin'\n",
        "AND t.kind_id=1\n",
        ");\"\"\"\n",
        "\n",
        "result = read_query(connection, q2)\n",
        "print(result)"
      ],
      "metadata": {
        "id": "fB7OQHAbtRBY"
      },
      "execution_count": null,
      "outputs": []
    },
    {
      "cell_type": "code",
      "source": [
        "pd.DataFrame(result,columns = ['ci.person_id','n.name'])"
      ],
      "metadata": {
        "id": "66bDs171tppU"
      },
      "execution_count": null,
      "outputs": []
    }
  ]
}