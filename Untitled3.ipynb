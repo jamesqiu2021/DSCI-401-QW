{
  "nbformat": 4,
  "nbformat_minor": 0,
  "metadata": {
    "colab": {
      "provenance": [],
      "collapsed_sections": [],
      "authorship_tag": "ABX9TyMZysUVvDqn7ZRM3sEDNZV3",
      "include_colab_link": true
    },
    "kernelspec": {
      "name": "python3",
      "display_name": "Python 3"
    },
    "language_info": {
      "name": "python"
    }
  },
  "cells": [
    {
      "cell_type": "markdown",
      "metadata": {
        "id": "view-in-github",
        "colab_type": "text"
      },
      "source": [
        "<a href=\"https://colab.research.google.com/github/jamesqiu2021/DSCI-401-QW/blob/main/Untitled3.ipynb\" target=\"_parent\"><img src=\"https://colab.research.google.com/assets/colab-badge.svg\" alt=\"Open In Colab\"/></a>"
      ]
    },
    {
      "cell_type": "markdown",
      "source": [],
      "metadata": {
        "id": "NbI4C6ubTmaK"
      }
    },
    {
      "cell_type": "markdown",
      "source": [
        "#1.a: Create a data frame that is a subset of the Teams data frame that contains only the years from 2000 through 2009 and the variables yearID, W, and L."
      ],
      "metadata": {
        "id": "JBWC5-TlTr0q"
      }
    },
    {
      "cell_type": "code",
      "source": [
        "import numpy as np\n",
        "import pandas as pd\n",
        "from pandas_profiling import ProfileReport\n",
        "Teams = pd.read_csv(\"https://raw.githubusercontent.com/gjm112/DSCI401/main/data/Teams.csv\")\n",
        "print (Teams)"
      ],
      "metadata": {
        "colab": {
          "base_uri": "https://localhost:8080/"
        },
        "id": "CNmhllMvW1LH",
        "outputId": "f13b6d26-882a-46d9-ac0d-b4c4096bdfc9"
      },
      "execution_count": 6,
      "outputs": [
        {
          "output_type": "stream",
          "name": "stdout",
          "text": [
            "      yearID lgID teamID franchID divID  Rank    G  Ghome    W    L  ...   DP  \\\n",
            "0       1871  NaN    BS1      BNA   NaN     3   31    NaN   20   10  ...   24   \n",
            "1       1871  NaN    CH1      CNA   NaN     2   28    NaN   19    9  ...   16   \n",
            "2       1871  NaN    CL1      CFC   NaN     8   29    NaN   10   19  ...   15   \n",
            "3       1871  NaN    FW1      KEK   NaN     7   19    NaN    7   12  ...    8   \n",
            "4       1871  NaN    NY2      NNA   NaN     5   33    NaN   16   17  ...   14   \n",
            "...      ...  ...    ...      ...   ...   ...  ...    ...  ...  ...  ...  ...   \n",
            "2980    2021   NL    SLN      STL     C     2  162   81.0   90   72  ...  137   \n",
            "2981    2021   AL    TBA      TBD     E     1  162   81.0  100   62  ...  130   \n",
            "2982    2021   AL    TEX      TEX     W     5  162   81.0   60  102  ...  146   \n",
            "2983    2021   AL    TOR      TOR     E     4  162   80.0   91   71  ...  122   \n",
            "2984    2021   NL    WAS      WSN     E     5  162   81.0   65   97  ...  116   \n",
            "\n",
            "         FP                     name                          park  \\\n",
            "0     0.834     Boston Red Stockings           South End Grounds I   \n",
            "1     0.829  Chicago White Stockings       Union Base-Ball Grounds   \n",
            "2     0.818   Cleveland Forest Citys  National Association Grounds   \n",
            "3     0.803     Fort Wayne Kekiongas                Hamilton Field   \n",
            "4     0.840         New York Mutuals      Union Grounds (Brooklyn)   \n",
            "...     ...                      ...                           ...   \n",
            "2980  0.986      St. Louis Cardinals             Busch Stadium III   \n",
            "2981  0.986           Tampa Bay Rays               Tropicana Field   \n",
            "2982  0.986            Texas Rangers              Globe Life Field   \n",
            "2983  0.984        Toronto Blue Jays                  Sahlen Field   \n",
            "2984  0.983     Washington Nationals                Nationals Park   \n",
            "\n",
            "      attendance  BPF  PPF  teamIDBR  teamIDlahman45  teamIDretro  \n",
            "0            NaN  103   98       BOS             BS1          BS1  \n",
            "1            NaN  104  102       CHI             CH1          CH1  \n",
            "2            NaN   96  100       CLE             CL1          CL1  \n",
            "3            NaN  101  107       KEK             FW1          FW1  \n",
            "4            NaN   90   88       NYU             NY2          NY2  \n",
            "...          ...  ...  ...       ...             ...          ...  \n",
            "2980   2102530.0   92   92       STL             SLN          SLN  \n",
            "2981    761072.0   92   91       TBR             TBA          TBA  \n",
            "2982   2110258.0   99  101       TEX             TEX          TEX  \n",
            "2983    805901.0  102  101       TOR             TOR          TOR  \n",
            "2984   1465543.0   95   96       WSN             MON          WAS  \n",
            "\n",
            "[2985 rows x 48 columns]\n"
          ]
        }
      ]
    },
    {
      "cell_type": "code",
      "source": [
        "Myteams = Teams.loc[Teams.yearID==2000)]\n",
        "print (Myteams)"
      ],
      "metadata": {
        "colab": {
          "base_uri": "https://localhost:8080/",
          "height": 131
        },
        "id": "Rn0l757zYHR_",
        "outputId": "41b32c7a-6042-40f9-8e01-931f48bcd1cc"
      },
      "execution_count": 43,
      "outputs": [
        {
          "output_type": "error",
          "ename": "SyntaxError",
          "evalue": "ignored",
          "traceback": [
            "\u001b[0;36m  File \u001b[0;32m\"<ipython-input-43-cf5728dd0811>\"\u001b[0;36m, line \u001b[0;32m1\u001b[0m\n\u001b[0;31m    Myteams = Teams.loc[Teams.yearID==2000)]\u001b[0m\n\u001b[0m                                          ^\u001b[0m\n\u001b[0;31mSyntaxError\u001b[0m\u001b[0;31m:\u001b[0m invalid syntax\n"
          ]
        }
      ]
    }
  ]
}